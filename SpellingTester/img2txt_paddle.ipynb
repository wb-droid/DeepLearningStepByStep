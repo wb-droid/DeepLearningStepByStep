{
 "cells": [
  {
   "cell_type": "code",
   "execution_count": 3,
   "id": "3383ebd7-2c32-498f-ba0d-8da665464f34",
   "metadata": {},
   "outputs": [],
   "source": [
    "# References:\n",
    "# https://github.com/PaddlePaddle/PaddleOCR/blob/main/doc/doc_ch/quickstart.md\n",
    "# https://github.com/PaddlePaddle/PaddleOCR/tree/main/deploy/docker/hubserving"
   ]
  },
  {
   "cell_type": "code",
   "execution_count": 2,
   "id": "f321a11d-5950-4fb5-bce7-10e1a5495563",
   "metadata": {},
   "outputs": [],
   "source": [
    "# Installation requirements: \n",
    "# https://www.paddlepaddle.org.cn/install/quick?docurl=/documentation/docs/zh/install/pip/linux-pip.html"
   ]
  },
  {
   "cell_type": "code",
   "execution_count": 3,
   "id": "8555a82b-dad3-45fd-8e77-4fcb9c1a5c16",
   "metadata": {},
   "outputs": [],
   "source": [
    "#python3 -m pip install paddlepaddle -i https://mirror.baidu.com/pypi/simple\n",
    "#pip install paddleocr --ignore-installed blinker"
   ]
  },
  {
   "cell_type": "code",
   "execution_count": 4,
   "id": "3112d665-8696-454b-b28b-10049b72ed36",
   "metadata": {},
   "outputs": [],
   "source": [
    "from paddleocr import PaddleOCR, draw_ocr"
   ]
  },
  {
   "cell_type": "code",
   "execution_count": 5,
   "id": "471f4fcb-e789-440e-a9b0-0badc5962ed6",
   "metadata": {},
   "outputs": [
    {
     "name": "stdout",
     "output_type": "stream",
     "text": [
      "download https://paddleocr.bj.bcebos.com/PP-OCRv4/chinese/ch_PP-OCRv4_det_infer.tar to /root/.paddleocr/whl/det/ch/ch_PP-OCRv4_det_infer/ch_PP-OCRv4_det_infer.tar\n"
     ]
    },
    {
     "name": "stderr",
     "output_type": "stream",
     "text": [
      "100%|██████████████████████████████████████████████████████████████████████████| 4.89M/4.89M [00:05<00:00, 876kiB/s]\n"
     ]
    },
    {
     "name": "stdout",
     "output_type": "stream",
     "text": [
      "download https://paddleocr.bj.bcebos.com/PP-OCRv4/chinese/ch_PP-OCRv4_rec_infer.tar to /root/.paddleocr/whl/rec/ch/ch_PP-OCRv4_rec_infer/ch_PP-OCRv4_rec_infer.tar\n"
     ]
    },
    {
     "name": "stderr",
     "output_type": "stream",
     "text": [
      "100%|█████████████████████████████████████████████████████████████████████████| 11.0M/11.0M [00:06<00:00, 1.75MiB/s]\n"
     ]
    },
    {
     "name": "stdout",
     "output_type": "stream",
     "text": [
      "download https://paddleocr.bj.bcebos.com/dygraph_v2.0/ch/ch_ppocr_mobile_v2.0_cls_infer.tar to /root/.paddleocr/whl/cls/ch_ppocr_mobile_v2.0_cls_infer/ch_ppocr_mobile_v2.0_cls_infer.tar\n"
     ]
    },
    {
     "name": "stderr",
     "output_type": "stream",
     "text": [
      "100%|█████████████████████████████████████████████████████████████████████████| 2.19M/2.19M [00:01<00:00, 2.08MiB/s]"
     ]
    },
    {
     "name": "stdout",
     "output_type": "stream",
     "text": [
      "[2024/05/03 00:19:24] ppocr DEBUG: Namespace(alpha=1.0, alphacolor=(255, 255, 255), benchmark=False, beta=1.0, binarize=False, cls_batch_num=6, cls_image_shape='3, 48, 192', cls_model_dir='/root/.paddleocr/whl/cls/ch_ppocr_mobile_v2.0_cls_infer', cls_thresh=0.9, cpu_threads=10, crop_res_save_dir='./output', det=True, det_algorithm='DB', det_box_type='quad', det_db_box_thresh=0.6, det_db_score_mode='fast', det_db_thresh=0.3, det_db_unclip_ratio=1.5, det_east_cover_thresh=0.1, det_east_nms_thresh=0.2, det_east_score_thresh=0.8, det_limit_side_len=960, det_limit_type='max', det_model_dir='/root/.paddleocr/whl/det/ch/ch_PP-OCRv4_det_infer', det_pse_box_thresh=0.85, det_pse_min_area=16, det_pse_scale=1, det_pse_thresh=0, det_sast_nms_thresh=0.2, det_sast_score_thresh=0.5, draw_img_save_dir='./inference_results', drop_score=0.5, e2e_algorithm='PGNet', e2e_char_dict_path='./ppocr/utils/ic15_dict.txt', e2e_limit_side_len=768, e2e_limit_type='max', e2e_model_dir=None, e2e_pgnet_mode='fast', e2e_pgnet_score_thresh=0.5, e2e_pgnet_valid_set='totaltext', enable_mkldnn=False, fourier_degree=5, gpu_id=0, gpu_mem=500, help='==SUPPRESS==', image_dir=None, image_orientation=False, invert=False, ir_optim=True, kie_algorithm='LayoutXLM', label_list=['0', '180'], lang='ch', layout=True, layout_dict_path=None, layout_model_dir=None, layout_nms_threshold=0.5, layout_score_threshold=0.5, max_batch_size=10, max_text_length=25, merge_no_span_structure=True, min_subgraph_size=15, mode='structure', ocr=True, ocr_order_method=None, ocr_version='PP-OCRv4', output='./output', page_num=0, precision='fp32', process_id=0, re_model_dir=None, rec=True, rec_algorithm='SVTR_LCNet', rec_batch_num=6, rec_char_dict_path='/usr/local/lib/python3.8/dist-packages/paddleocr/ppocr/utils/ppocr_keys_v1.txt', rec_image_inverse=True, rec_image_shape='3, 48, 320', rec_model_dir='/root/.paddleocr/whl/rec/ch/ch_PP-OCRv4_rec_infer', recovery=False, save_crop_res=False, save_log_path='./log_output/', scales=[8, 16, 32], ser_dict_path='../train_data/XFUND/class_list_xfun.txt', ser_model_dir=None, show_log=True, sr_batch_num=1, sr_image_shape='3, 32, 128', sr_model_dir=None, structure_version='PP-StructureV2', table=True, table_algorithm='TableAttn', table_char_dict_path=None, table_max_len=488, table_model_dir=None, total_process_num=1, type='ocr', use_angle_cls=True, use_dilation=False, use_gpu=False, use_mp=False, use_npu=False, use_onnx=False, use_pdf2docx_api=False, use_pdserving=False, use_space_char=True, use_tensorrt=False, use_visual_backbone=True, use_xpu=False, vis_font_path='./doc/fonts/simfang.ttf', warmup=False)\n"
     ]
    },
    {
     "name": "stderr",
     "output_type": "stream",
     "text": [
      "\n"
     ]
    },
    {
     "name": "stdout",
     "output_type": "stream",
     "text": [
      "[2024/05/03 00:19:25] ppocr DEBUG: dt_boxes num : 23, elapsed : 0.1747298240661621\n",
      "[2024/05/03 00:19:25] ppocr DEBUG: cls num  : 23, elapsed : 0.04375481605529785\n",
      "[2024/05/03 00:19:26] ppocr DEBUG: rec_res num  : 23, elapsed : 0.6012189388275146\n",
      "[[[159.0, 31.0], [348.0, 33.0], [348.0, 74.0], [159.0, 72.0]], ('听写（九）', 0.9961327314376831)]\n",
      "[[[125.0, 86.0], [258.0, 84.0], [258.0, 109.0], [125.0, 111.0]], ('日期：5日8日', 0.8455187678337097)]\n",
      "[[[80.0, 133.0], [382.0, 136.0], [382.0, 159.0], [80.0, 156.0]], ('一、听一听，圈一圈（识读字）', 0.9776919484138489)]\n",
      "[[[69.0, 163.0], [168.0, 169.0], [166.0, 196.0], [67.0, 190.0]], ('1.井（jing)', 0.877371072769165)]\n",
      "[[[232.0, 168.0], [324.0, 168.0], [324.0, 193.0], [232.0, 193.0]], ('6.十条虫', 0.9942170977592468)]\n",
      "[[[69.0, 196.0], [175.0, 203.0], [174.0, 228.0], [68.0, 221.0]], ('2.弓（gong)', 0.895344078540802)]\n",
      "[[[249.0, 195.0], [365.0, 197.0], [365.0, 221.0], [249.0, 219.0]], ('(shitiao chong)', 0.9171774387359619)]\n",
      "[[[231.0, 219.0], [325.0, 222.0], [325.0, 247.0], [231.0, 244.0]], ('7.说华语', 0.9947736859321594)]\n",
      "[[[69.0, 229.0], [165.0, 235.0], [164.0, 260.0], [68.0, 254.0]], ('3.心(xin)', 0.8811482787132263)]\n",
      "[[[255.0, 247.0], [356.0, 250.0], [356.0, 273.0], [255.0, 271.0]], ('(shuo hua yu)', 0.9406812191009521)]\n",
      "[[[69.0, 262.0], [173.0, 267.0], [172.0, 291.0], [68.0, 287.0]], ('4.点（din）', 0.9119278192520142)]\n",
      "[[[232.0, 273.0], [326.0, 273.0], [326.0, 297.0], [232.0, 297.0]], ('8.十粒豆', 0.9980142712593079)]\n",
      "[[[69.0, 294.0], [157.0, 297.0], [156.0, 325.0], [68.0, 321.0]], ('5.今（jin）', 0.8706754446029663)]\n",
      "[[[255.0, 301.0], [333.0, 301.0], [333.0, 322.0], [255.0, 322.0]], ('(shi li dou)', 0.9140956401824951)]\n",
      "[[[71.0, 350.0], [403.0, 352.0], [403.0, 376.0], [71.0, 374.0]], ('二、听一听，写一写（汉语拼音）', 0.9926069378852844)]\n",
      "[[[71.0, 386.0], [394.0, 386.0], [394.0, 409.0], [71.0, 409.0]], ('请复习课本第98、99页（拼音城堡）', 0.9863888621330261)]\n",
      "[[[70.0, 416.0], [159.0, 416.0], [159.0, 439.0], [70.0, 439.0]], ('中的拼音。', 0.9944084882736206)]\n",
      "[[[75.0, 468.0], [382.0, 468.0], [382.0, 491.0], [75.0, 491.0]], ('三、听一听，写一写（识写字）', 0.993145763874054)]\n",
      "[[[76.0, 505.0], [185.0, 502.0], [185.0, 534.0], [76.0, 537.0]], ('1.贝（壳）', 0.9723418354988098)]\n",
      "[[[257.0, 500.0], [349.0, 500.0], [349.0, 524.0], [257.0, 524.0]], ('4.六头牛', 0.9986516833305359)]\n",
      "[[[258.0, 531.0], [387.0, 531.0], [387.0, 555.0], [258.0, 555.0]], ('5.九支（笔）', 0.9946112036705017)]\n",
      "[[[76.0, 542.0], [194.0, 540.0], [194.0, 565.0], [76.0, 567.0]], ('2.（华）文', 0.9906354546546936)]\n",
      "[[[74.0, 574.0], [148.0, 572.0], [149.0, 599.0], [75.0, 602.0]], ('3.什么', 0.9965330958366394)]\n"
     ]
    }
   ],
   "source": [
    "# Paddleocr目前支持的多语言语种可以通过修改lang参数进行切换\n",
    "# 例如`ch`, `en`, `fr`, `german`, `korean`, `japan`\n",
    "ocr = PaddleOCR(use_angle_cls=True, lang=\"ch\")  # need to run only once to download and load model into memory\n",
    "img_path = './SpellingTest8.jpg'\n",
    "result = ocr.ocr(img_path, cls=True)\n",
    "for idx in range(len(result)):\n",
    "    res = result[idx]\n",
    "    for line in res:\n",
    "        print(line)"
   ]
  },
  {
   "cell_type": "code",
   "execution_count": 6,
   "id": "af0aa1b3-ef3b-4a73-87a5-08db3675f789",
   "metadata": {},
   "outputs": [
    {
     "name": "stdout",
     "output_type": "stream",
     "text": [
      "download https://paddleocr.bj.bcebos.com/PP-OCRv3/english/en_PP-OCRv3_det_infer.tar to /root/.paddleocr/whl/det/en/en_PP-OCRv3_det_infer/en_PP-OCRv3_det_infer.tar\n"
     ]
    },
    {
     "name": "stderr",
     "output_type": "stream",
     "text": [
      "100%|██████████████████████████████████████████████████████████████████████████| 4.00M/4.00M [00:04<00:00, 821kiB/s]\n"
     ]
    },
    {
     "name": "stdout",
     "output_type": "stream",
     "text": [
      "download https://paddleocr.bj.bcebos.com/PP-OCRv4/english/en_PP-OCRv4_rec_infer.tar to /root/.paddleocr/whl/rec/en/en_PP-OCRv4_rec_infer/en_PP-OCRv4_rec_infer.tar\n"
     ]
    },
    {
     "name": "stderr",
     "output_type": "stream",
     "text": [
      "100%|█████████████████████████████████████████████████████████████████████████| 10.2M/10.2M [00:06<00:00, 1.57MiB/s]"
     ]
    },
    {
     "name": "stdout",
     "output_type": "stream",
     "text": [
      "[2024/05/03 00:20:30] ppocr DEBUG: Namespace(alpha=1.0, alphacolor=(255, 255, 255), benchmark=False, beta=1.0, binarize=False, cls_batch_num=6, cls_image_shape='3, 48, 192', cls_model_dir='/root/.paddleocr/whl/cls/ch_ppocr_mobile_v2.0_cls_infer', cls_thresh=0.9, cpu_threads=10, crop_res_save_dir='./output', det=True, det_algorithm='DB', det_box_type='quad', det_db_box_thresh=0.6, det_db_score_mode='fast', det_db_thresh=0.3, det_db_unclip_ratio=1.5, det_east_cover_thresh=0.1, det_east_nms_thresh=0.2, det_east_score_thresh=0.8, det_limit_side_len=960, det_limit_type='max', det_model_dir='/root/.paddleocr/whl/det/en/en_PP-OCRv3_det_infer', det_pse_box_thresh=0.85, det_pse_min_area=16, det_pse_scale=1, det_pse_thresh=0, det_sast_nms_thresh=0.2, det_sast_score_thresh=0.5, draw_img_save_dir='./inference_results', drop_score=0.5, e2e_algorithm='PGNet', e2e_char_dict_path='./ppocr/utils/ic15_dict.txt', e2e_limit_side_len=768, e2e_limit_type='max', e2e_model_dir=None, e2e_pgnet_mode='fast', e2e_pgnet_score_thresh=0.5, e2e_pgnet_valid_set='totaltext', enable_mkldnn=False, fourier_degree=5, gpu_id=0, gpu_mem=500, help='==SUPPRESS==', image_dir=None, image_orientation=False, invert=False, ir_optim=True, kie_algorithm='LayoutXLM', label_list=['0', '180'], lang='en', layout=True, layout_dict_path=None, layout_model_dir=None, layout_nms_threshold=0.5, layout_score_threshold=0.5, max_batch_size=10, max_text_length=25, merge_no_span_structure=True, min_subgraph_size=15, mode='structure', ocr=True, ocr_order_method=None, ocr_version='PP-OCRv4', output='./output', page_num=0, precision='fp32', process_id=0, re_model_dir=None, rec=True, rec_algorithm='SVTR_LCNet', rec_batch_num=6, rec_char_dict_path='/usr/local/lib/python3.8/dist-packages/paddleocr/ppocr/utils/en_dict.txt', rec_image_inverse=True, rec_image_shape='3, 48, 320', rec_model_dir='/root/.paddleocr/whl/rec/en/en_PP-OCRv4_rec_infer', recovery=False, save_crop_res=False, save_log_path='./log_output/', scales=[8, 16, 32], ser_dict_path='../train_data/XFUND/class_list_xfun.txt', ser_model_dir=None, show_log=True, sr_batch_num=1, sr_image_shape='3, 32, 128', sr_model_dir=None, structure_version='PP-StructureV2', table=True, table_algorithm='TableAttn', table_char_dict_path=None, table_max_len=488, table_model_dir=None, total_process_num=1, type='ocr', use_angle_cls=True, use_dilation=False, use_gpu=False, use_mp=False, use_npu=False, use_onnx=False, use_pdf2docx_api=False, use_pdserving=False, use_space_char=True, use_tensorrt=False, use_visual_backbone=True, use_xpu=False, vis_font_path='./doc/fonts/simfang.ttf', warmup=False)\n"
     ]
    },
    {
     "name": "stderr",
     "output_type": "stream",
     "text": [
      "\n"
     ]
    },
    {
     "name": "stdout",
     "output_type": "stream",
     "text": [
      "[2024/05/03 00:20:31] ppocr DEBUG: dt_boxes num : 28, elapsed : 0.10492944717407227\n",
      "[2024/05/03 00:20:31] ppocr DEBUG: cls num  : 28, elapsed : 0.04225897789001465\n",
      "[2024/05/03 00:20:32] ppocr DEBUG: rec_res num  : 28, elapsed : 0.7118854522705078\n",
      "[[[80.0, 52.0], [329.0, 44.0], [330.0, 64.0], [81.0, 72.0]], ('SPELLING &DICTATIONLIST3TERM2', 0.9682953357696533)]\n",
      "[[[14.0, 106.0], [168.0, 110.0], [168.0, 128.0], [14.0, 124.0]], ('are underlined and in BOLD', 0.9788596630096436)]\n",
      "[[[18.0, 174.0], [208.0, 170.0], [208.0, 191.0], [19.0, 195.0]], ('Book Walking Through the Jungle', 0.977525532245636)]\n",
      "[[[21.0, 206.0], [190.0, 201.0], [191.0, 222.0], [22.0, 226.0]], ('Week 8:6May 2024(Monday', 0.9219226241111755)]\n",
      "[[[30.0, 270.0], [44.0, 270.0], [44.0, 286.0], [30.0, 286.0]], ('1.', 0.9893114566802979)]\n",
      "[[[64.0, 267.0], [173.0, 264.0], [173.0, 282.0], [65.0, 285.0]], ('That is a long snake', 0.9579507112503052)]\n",
      "[[[32.0, 304.0], [49.0, 304.0], [49.0, 325.0], [32.0, 325.0]], ('2.', 0.9929817914962769)]\n",
      "[[[67.0, 305.0], [267.0, 296.0], [268.0, 313.0], [68.0, 322.0]], ('The monkey swings from tree to tree', 0.9734091758728027)]\n",
      "[[[36.0, 342.0], [49.0, 342.0], [49.0, 359.0], [36.0, 359.0]], ('3.', 0.9933969974517822)]\n",
      "[[[69.0, 340.0], [228.0, 333.0], [229.0, 351.0], [70.0, 357.0]], ('The elephant has a long trunk', 0.9709338545799255)]\n",
      "[[[35.0, 377.0], [49.0, 373.0], [54.0, 390.0], [40.0, 394.0]], ('4.', 0.9779256582260132)]\n",
      "[[[71.0, 375.0], [298.0, 366.0], [298.0, 383.0], [72.0, 392.0]], ('The leopard is creeping through the jungle', 0.9662100672721863)]\n",
      "[[[37.0, 411.0], [54.0, 408.0], [57.0, 427.0], [41.0, 430.0]], ('5.', 0.9904880523681641)]\n",
      "[[[73.0, 409.0], [277.0, 403.0], [278.0, 420.0], [74.0, 427.0]], ('An animal is leaping through the jungle', 0.9663060307502747)]\n",
      "[[[41.0, 446.0], [58.0, 446.0], [58.0, 464.0], [41.0, 464.0]], ('6.', 0.9931200742721558)]\n",
      "[[[74.0, 445.0], [236.0, 438.0], [237.0, 456.0], [75.0, 462.0]], ('The tiger is a ferocious animal.', 0.9798260927200317)]\n",
      "[[[42.0, 479.0], [59.0, 479.0], [59.0, 497.0], [42.0, 497.0]], ('7.', 0.8194960355758667)]\n",
      "[[[75.0, 477.0], [198.0, 475.0], [199.0, 492.0], [75.0, 494.0]], ('Peter is walking quickly', 0.9753942489624023)]\n",
      "[[[45.0, 513.0], [62.0, 513.0], [62.0, 531.0], [45.0, 531.0]], ('8.', 0.7618992328643799)]\n",
      "[[[77.0, 512.0], [189.0, 509.0], [190.0, 526.0], [78.0, 529.0]], ('Can you hear a noise?', 0.962409496307373)]\n",
      "[[[48.0, 565.0], [120.0, 561.0], [121.0, 579.0], [48.0, 583.0]], ('DICTATION', 0.9965282082557678)]\n",
      "[[[51.0, 617.0], [65.0, 617.0], [65.0, 631.0], [51.0, 631.0]], ('9.', 0.777390718460083)]\n",
      "[[[81.0, 614.0], [198.0, 611.0], [199.0, 628.0], [81.0, 631.0]], ('The lion roars loudly.', 0.961561381816864)]\n",
      "[[[53.0, 649.0], [81.0, 649.0], [81.0, 664.0], [53.0, 664.0]], ('10.', 0.9844613075256348)]\n",
      "[[[82.0, 648.0], [248.0, 645.0], [248.0, 661.0], [82.0, 664.0]], ('The horse gallops in the field.', 0.9580711722373962)]\n",
      "[[[54.0, 714.0], [119.0, 717.0], [118.0, 732.0], [54.0, 729.0]], ('Term 2 Spelling', 0.9628678560256958)]\n",
      "[[[381.0, 714.0], [415.0, 714.0], [415.0, 729.0], [381.0, 729.0]], ('Page 3', 0.9234825968742371)]\n"
     ]
    }
   ],
   "source": [
    "ocr = PaddleOCR(use_angle_cls=True, lang=\"en\")  # need to run only once to download and load model into memory\n",
    "img_path = './SpellingList3.jpg'\n",
    "result = ocr.ocr(img_path, cls=True)\n",
    "for idx in range(len(result)):\n",
    "    res = result[idx]\n",
    "    for line in res:\n",
    "        print(line)"
   ]
  },
  {
   "cell_type": "code",
   "execution_count": null,
   "id": "4aeddb28-5d29-48aa-b12e-abe56a326199",
   "metadata": {},
   "outputs": [],
   "source": []
  }
 ],
 "metadata": {
  "kernelspec": {
   "display_name": "Python 3 (ipykernel)",
   "language": "python",
   "name": "python3"
  },
  "language_info": {
   "codemirror_mode": {
    "name": "ipython",
    "version": 3
   },
   "file_extension": ".py",
   "mimetype": "text/x-python",
   "name": "python",
   "nbconvert_exporter": "python",
   "pygments_lexer": "ipython3",
   "version": "3.8.10"
  }
 },
 "nbformat": 4,
 "nbformat_minor": 5
}
