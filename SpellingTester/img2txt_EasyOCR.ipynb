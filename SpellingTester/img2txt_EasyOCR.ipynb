{
 "cells": [
  {
   "cell_type": "code",
   "execution_count": 1,
   "id": "45df97ab-50f6-4908-911d-1afce34df228",
   "metadata": {},
   "outputs": [],
   "source": [
    "# References:\n",
    "# https://github.com/JaidedAI/EasyOCR"
   ]
  },
  {
   "cell_type": "code",
   "execution_count": 2,
   "id": "08bd082f-7167-4986-8b76-c871b13ca790",
   "metadata": {},
   "outputs": [],
   "source": [
    "#!pip install easyocr"
   ]
  },
  {
   "cell_type": "code",
   "execution_count": 3,
   "id": "d4975274-f161-467d-8642-13ad9a290b33",
   "metadata": {},
   "outputs": [],
   "source": [
    "import easyocr"
   ]
  },
  {
   "cell_type": "code",
   "execution_count": 4,
   "id": "f01a251b-7e57-48ec-9cb2-0b429b4a7a07",
   "metadata": {},
   "outputs": [],
   "source": [
    "reader = easyocr.Reader(['ch_sim','en']) # this needs to run only once to load the model into memory"
   ]
  },
  {
   "cell_type": "code",
   "execution_count": 9,
   "id": "db134098-db17-44c9-8813-c45482b3f4e7",
   "metadata": {},
   "outputs": [
    {
     "data": {
      "text/plain": [
       "[([[155, 25], [348, 25], [348, 81], [155, 81]], '听写(九)', 0.9885112281046861),\n",
       " ([[124, 86], [182, 86], [182, 112], [124, 112]], '日期:', 0.8633491692736227),\n",
       " ([[193, 85], [258, 85], [258, 112], [193, 112]], '5旦e', 0.0974098756351352),\n",
       " ([[111, 129], [389, 129], [389, 167], [111, 167]],\n",
       "  '听二听,_圈二圈(识读字)',\n",
       "  0.3273658040150345),\n",
       " ([[68, 166], [169, 166], [169, 197], [68, 197]],\n",
       "  '1。井 Cing)',\n",
       "  0.40197651911386484),\n",
       " ([[230, 168], [328, 168], [328, 196], [230, 196]],\n",
       "  '6.十条虫',\n",
       "  0.9953460738236531),\n",
       " ([[69, 199], [89, 199], [89, 225], [69, 225]], '2.', 0.9845212372600258),\n",
       " ([[98, 198], [176, 198], [176, 228], [98, 228]],\n",
       "  '弓 (gong)',\n",
       "  0.9369797020256245),\n",
       " ([[246, 196], [366, 196], [366, 222], [246, 222]],\n",
       "  '(shitioo chong)',\n",
       "  0.5084088050752934),\n",
       " ([[69, 231], [89, 231], [89, 255], [69, 255]], '3', 0.9999911785320279),\n",
       " ([[99, 235], [121, 235], [121, 255], [99, 255]], '心', 0.9500764082809532),\n",
       " ([[129, 239], [163, 239], [163, 257], [129, 257]],\n",
       "  '(Xin)',\n",
       "  0.5174550017825521),\n",
       " ([[232, 220], [328, 220], [328, 250], [232, 250]],\n",
       "  '7.说华语',\n",
       "  0.9445623197388566),\n",
       " ([[255, 253], [299, 253], [299, 269], [255, 269]],\n",
       "  '(ShUG',\n",
       "  0.761761204347784),\n",
       " ([[71, 263], [89, 263], [89, 287], [71, 287]], '4', 1.0),\n",
       " ([[100, 262], [174, 262], [174, 290], [100, 290]],\n",
       "  '点 (didn)',\n",
       "  0.5578384536335307),\n",
       " ([[230, 272], [326, 272], [326, 298], [230, 298]],\n",
       "  '8.十粒豆',\n",
       "  0.9948423028105584),\n",
       " ([[71, 295], [91, 295], [91, 321], [71, 321]], '5.', 0.9756559431250911),\n",
       " ([[125, 303], [157, 303], [157, 321], [125, 321]],\n",
       "  '(jin)',\n",
       "  0.781161550018002),\n",
       " ([[253, 303], [335, 303], [335, 323], [253, 323]],\n",
       "  '(shili dou)',\n",
       "  0.9094675099765237),\n",
       " ([[114, 350], [194, 350], [194, 378], [114, 378]], '听一听', 0.9870674506234063),\n",
       " ([[208, 350], [410, 350], [410, 380], [208, 380]],\n",
       "  '写一写 (汉语拼音 )',\n",
       "  0.6508294554607271),\n",
       " ([[70, 384], [400, 384], [400, 412], [70, 412]],\n",
       "  '请复习课本第98,99 页〈拼音城堡〉',\n",
       "  0.4278899282075953),\n",
       " ([[71, 414], [161, 414], [161, 440], [71, 440]], '中的拼音。', 0.9551704756656436),\n",
       " ([[72, 466], [388, 466], [388, 494], [72, 494]],\n",
       "  '三。听一听。写一写 (识写字 )',\n",
       "  0.21915544519594765),\n",
       " ([[78, 506], [192, 506], [192, 538], [78, 538]],\n",
       "  '1.贝(壳)',\n",
       "  0.9722179558375139),\n",
       " ([[256, 498], [350, 498], [350, 526], [256, 526]],\n",
       "  '4.六头牛',\n",
       "  0.956563456521631),\n",
       " ([[76, 540], [196, 540], [196, 568], [76, 568]],\n",
       "  '2.(华)文',\n",
       "  0.4488304785608806),\n",
       " ([[256, 530], [392, 530], [392, 560], [256, 560]],\n",
       "  '5.九支(笔)',\n",
       "  0.9190723633187116),\n",
       " ([[76, 574], [150, 574], [150, 600], [76, 600]], '3.什么', 0.9885204434394836),\n",
       " ([[296.99099080900555, 243.1747742652155],\n",
       "   [359.9239793686825, 252.32892276784335],\n",
       "   [355.00900919099445, 276.8252257347845],\n",
       "   [293.0760206313175, 267.6710772321566]],\n",
       "  'huayi)',\n",
       "  0.48226448197967936)]"
      ]
     },
     "execution_count": 9,
     "metadata": {},
     "output_type": "execute_result"
    }
   ],
   "source": [
    "result = reader.readtext('SpellingTest8.jpg')\n",
    "result"
   ]
  },
  {
   "cell_type": "code",
   "execution_count": 10,
   "id": "4df9ea3d-dccd-406c-bdb2-315da3a89219",
   "metadata": {},
   "outputs": [
    {
     "name": "stderr",
     "output_type": "stream",
     "text": [
      "Using CPU. Note: This module is much faster with a GPU.\n"
     ]
    }
   ],
   "source": [
    "reader = easyocr.Reader(['ch_sim','en'], gpu=False)"
   ]
  },
  {
   "cell_type": "code",
   "execution_count": 11,
   "id": "99fd81d2-1e9b-496e-b665-b255631d8800",
   "metadata": {},
   "outputs": [
    {
     "data": {
      "text/plain": [
       "['听写(九)',\n",
       " '日期:',\n",
       " '5旦且',\n",
       " '听二听,_圈二圈(识读字)',\n",
       " '1。井 Oing)',\n",
       " '6.十条虫',\n",
       " '2.',\n",
       " '弓 (gong)',\n",
       " '(shitioo chong)',\n",
       " '3',\n",
       " '心',\n",
       " '(Xin)',\n",
       " '7.说华语',\n",
       " '(ShUG',\n",
       " '4',\n",
       " '点 (didn)',\n",
       " '8.十粒豆',\n",
       " '5.',\n",
       " '(jin)',\n",
       " '(shili dou)',\n",
       " '听一听',\n",
       " '写一写 (汉语拼音 )',\n",
       " '请复习课本第98。99 页〈拼音城堡〉',\n",
       " '中的拼音。',\n",
       " '三。听一听。写一写 (识写字 )',\n",
       " '1.贝(壳)',\n",
       " '4.六头牛',\n",
       " '2。(华)文',\n",
       " '5.九支(笔)',\n",
       " '3.什么',\n",
       " 'huayi)']"
      ]
     },
     "execution_count": 11,
     "metadata": {},
     "output_type": "execute_result"
    }
   ],
   "source": [
    "result = reader.readtext('SpellingTest8.jpg', detail = 0)\n",
    "result"
   ]
  },
  {
   "cell_type": "code",
   "execution_count": null,
   "id": "836b0426-8b59-4e7d-8a18-65443b0878b3",
   "metadata": {},
   "outputs": [],
   "source": [
    "# pinyin cannot be recognized.\n",
    "# one Chinese character 今 is not recognized."
   ]
  },
  {
   "cell_type": "code",
   "execution_count": 13,
   "id": "ca047d2f-db19-47de-ae4d-7e250f6061f8",
   "metadata": {},
   "outputs": [
    {
     "data": {
      "text/plain": [
       "['SPELLING',\n",
       " 'DCTATONLIST3 (IEBLZ)',\n",
       " 'note that you will be tested on the words cnd sentences that',\n",
       " 'Ope',\n",
       " 'Uderlineg and in BOLD。',\n",
       " 'Book: Walking Through the Jungle',\n",
       " 'Neek 8:',\n",
       " 'May 2024 (Moncay)',\n",
       " 'ThoT I5',\n",
       " 'The monkey swings from tree to tree。',\n",
       " 'The elephont has',\n",
       " 'long Trunk。',\n",
       " 'Tne',\n",
       " 'eopard is creeping through the',\n",
       " 'An animalis leoping through the Jungle',\n",
       " 'The tgeris',\n",
       " 'ferocious animal。',\n",
       " 'Peter',\n",
       " 'Wolking quickly。',\n",
       " 'Con YoU henr',\n",
       " 'Rise?',\n",
       " 'DCIATION',\n",
       " 'The lonroors ludly',\n",
       " 'The_horse q@lops in the feld',\n",
       " 'Trm',\n",
       " 'Spellng',\n",
       " 'Page',\n",
       " 'plense',\n",
       " 'Soke',\n",
       " 'long',\n",
       " 'jungle']"
      ]
     },
     "execution_count": 13,
     "metadata": {},
     "output_type": "execute_result"
    }
   ],
   "source": [
    "result = reader.readtext('SpellingList3.jpg', detail = 0)\n",
    "result"
   ]
  },
  {
   "cell_type": "code",
   "execution_count": 14,
   "id": "44f6d9db-7c1f-41ee-bd58-ad58fd7ae5d6",
   "metadata": {},
   "outputs": [],
   "source": [
    "# There are quite a number of errors in letter detection."
   ]
  },
  {
   "cell_type": "code",
   "execution_count": null,
   "id": "c832d5d3-dafe-4b67-930b-d4d0306d2fd8",
   "metadata": {},
   "outputs": [],
   "source": []
  }
 ],
 "metadata": {
  "kernelspec": {
   "display_name": "Python 3 (ipykernel)",
   "language": "python",
   "name": "python3"
  },
  "language_info": {
   "codemirror_mode": {
    "name": "ipython",
    "version": 3
   },
   "file_extension": ".py",
   "mimetype": "text/x-python",
   "name": "python",
   "nbconvert_exporter": "python",
   "pygments_lexer": "ipython3",
   "version": "3.8.10"
  }
 },
 "nbformat": 4,
 "nbformat_minor": 5
}
