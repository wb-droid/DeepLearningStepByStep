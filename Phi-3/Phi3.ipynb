{
 "cells": [
  {
   "cell_type": "code",
   "execution_count": 1,
   "id": "a7a195d4-0291-4ac6-96a6-c3e9f4473daa",
   "metadata": {},
   "outputs": [],
   "source": [
    "# References:\n",
    "# https://huggingface.co/microsoft/Phi-3-vision-128k-instruct\n",
    "# https://towardsdatascience.com/6-real-world-uses-of-microsofts-newest-phi-3-vision-language-model-8ebbfa317fe8"
   ]
  },
  {
   "cell_type": "code",
   "execution_count": 1,
   "id": "18373d2e-eae5-40a1-b064-7f7894164fe4",
   "metadata": {},
   "outputs": [],
   "source": [
    "#!pip install transformers\n",
    "#!pip install bitsandbytes\n",
    "#!FLASH_ATTENTION_SKIP_CUDA_BUILD=TRUE pip install flash-attn --no-build-isolation\n",
    "#!pip install accelerate"
   ]
  },
  {
   "cell_type": "code",
   "execution_count": 2,
   "id": "e3a66428-5640-4d7d-b72d-7ba60f3bb798",
   "metadata": {},
   "outputs": [
    {
     "name": "stderr",
     "output_type": "stream",
     "text": [
      "/home/bob/.local/lib/python3.8/site-packages/tqdm/auto.py:21: TqdmWarning: IProgress not found. Please update jupyter and ipywidgets. See https://ipywidgets.readthedocs.io/en/stable/user_install.html\n",
      "  from .autonotebook import tqdm as notebook_tqdm\n"
     ]
    }
   ],
   "source": [
    "from PIL import Image\n",
    "import requests\n",
    "from transformers import AutoModelForCausalLM\n",
    "from transformers import AutoProcessor\n",
    "from transformers import BitsAndBytesConfig\n",
    "import torch"
   ]
  },
  {
   "cell_type": "code",
   "execution_count": 3,
   "id": "77432316-c7ea-4c44-9502-85b363fa5732",
   "metadata": {},
   "outputs": [
    {
     "name": "stderr",
     "output_type": "stream",
     "text": [
      "Special tokens have been added in the vocabulary, make sure the associated word embeddings are fine-tuned or trained.\n"
     ]
    }
   ],
   "source": [
    "# Define model ID\n",
    "model_id = \"microsoft/Phi-3-vision-128k-instruct\"\n",
    "\n",
    "# Load processor\n",
    "processor = AutoProcessor.from_pretrained(model_id, trust_remote_code=True)"
   ]
  },
  {
   "cell_type": "code",
   "execution_count": 4,
   "id": "b5222b50-a913-45f2-9968-efc0ad07a55e",
   "metadata": {},
   "outputs": [
    {
     "name": "stderr",
     "output_type": "stream",
     "text": [
      "Downloading shards: 100%|████████████████████████████████████████████████████████████| 2/2 [12:08<00:00, 364.19s/it]\n",
      "Loading checkpoint shards: 100%|██████████████████████████████████████████████████████| 2/2 [00:08<00:00,  4.14s/it]\n"
     ]
    }
   ],
   "source": [
    "# Define BitsAndBytes configuration for 4-bit quantization\n",
    "nf4_config = BitsAndBytesConfig(\n",
    "    load_in_4bit=True,\n",
    "    bnb_4bit_quant_type=\"nf4\",\n",
    "    bnb_4bit_use_double_quant=True,\n",
    "    bnb_4bit_compute_dtype=torch.bfloat16,\n",
    ")\n",
    "\n",
    "# Load model with 4-bit quantization and map to CUDA\n",
    "model = AutoModelForCausalLM.from_pretrained(\n",
    "    model_id,\n",
    "    device_map=\"cuda\",\n",
    "    trust_remote_code=True,\n",
    "    torch_dtype=\"auto\",\n",
    "    quantization_config=nf4_config,\n",
    ")"
   ]
  },
  {
   "cell_type": "code",
   "execution_count": 16,
   "id": "a4023746-ebf5-422a-8060-ffe148d913da",
   "metadata": {},
   "outputs": [
    {
     "data": {
      "image/jpeg": "[encoded data removed]",
      "image/png": "[encoded data removed]",
      "text/plain": [
       "<PIL.Image.Image image mode=RGB size=100x100>"
      ]
     },
     "metadata": {},
     "output_type": "display_data"
    },
    {
     "name": "stdout",
     "output_type": "stream",
     "text": [
      "The image shows a plush toy resembling a monkey with a yellow headband.\n"
     ]
    }
   ],
   "source": [
    "# Define initial chat message with image placeholder\n",
    "messages = [{\"role\": \"user\", \"content\": \"<|image_1|>\\nWhat is shown in this image?\"}]\n",
    "\n",
    "# Download image from URL\n",
    "#url = \"https://images.unsplash.com/photo-1528834342297-fdefb9a5a92b?ixlib=rb-4.0.3&q=85&fm=jpg&crop=entropy&cs=srgb&dl=roonz-nl-vjDbHCjHlEY-unsplash.jpg&w=640\"\n",
    "#image = Image.open(requests.get(url, stream=True).raw)\n",
    "image = Image.open(\"0.jpg\")\n",
    "image.resize((100,100)).show()\n",
    "\n",
    "# Prepare prompt with image token\n",
    "prompt = processor.tokenizer.apply_chat_template(\n",
    "    messages, tokenize=False, add_generation_prompt=True\n",
    ")\n",
    "\n",
    "# Process prompt and image for model input\n",
    "inputs = processor(prompt, [image], return_tensors=\"pt\").to(\"cuda:0\")\n",
    "\n",
    "# Generate text response using model\n",
    "generate_ids = model.generate(\n",
    "    **inputs,\n",
    "    eos_token_id=processor.tokenizer.eos_token_id,\n",
    "    max_new_tokens=500,\n",
    "    do_sample=False,\n",
    ")\n",
    "\n",
    "# Remove input tokens from generated response\n",
    "generate_ids = generate_ids[:, inputs[\"input_ids\"].shape[1] :]\n",
    "\n",
    "# Decode generated IDs to text\n",
    "response = processor.batch_decode(\n",
    "    generate_ids, skip_special_tokens=True, clean_up_tokenization_spaces=False\n",
    ")[0]\n",
    "\n",
    "# Print the generated response\n",
    "print(response)"
   ]
  },
  {
   "cell_type": "code",
   "execution_count": 7,
   "id": "15d2b315-5139-403b-a21a-ad5f1f47ff99",
   "metadata": {},
   "outputs": [
    {
     "name": "stdout",
     "output_type": "stream",
     "text": [
      "SPELLING & DICTATION LIST 3 (TERM 2)\n",
      "Please note that you will be tested on the words and sentences that \n",
      "are underlined and in BOLD.\n",
      "Book: Walking Through the Jungle\n",
      "Week 8: 6 May 2024 (Monday)\n",
      "1. \n",
      "That is a long snake.\n",
      "2. \n",
      "The monkey swings from tree to tree.\n",
      "3. \n",
      "The elephant has a long trunk.\n",
      "4. \n",
      "The leopard is creeping through the jungle.\n",
      "5. \n",
      "An animal is leaping through the jungle.\n",
      "6. \n",
      "The tiger is a ferocious animal.\n",
      "7. \n",
      "Peter is walking quickly.\n",
      "8. \n",
      "Can you hear a noise?\n",
      "DICTATION\n",
      "9. \n",
      "The lion roars loudly.\n",
      "10. \n",
      "The horse gallops in the field.\n",
      "Term 2 Spelling \n",
      "Page 3\n"
     ]
    }
   ],
   "source": [
    "#OCR\n",
    "messages = [{\"role\": \"user\", \"content\": \"<|image_1|>\\nOCR the text of the image as is. OCR:\"}]\n",
    "image = Image.open(\"SpellingList3.jpg\")\n",
    "\n",
    "# Prepare prompt with image token\n",
    "prompt = processor.tokenizer.apply_chat_template(\n",
    "    messages, tokenize=False, add_generation_prompt=True\n",
    ")\n",
    "\n",
    "# Process prompt and image for model input\n",
    "inputs = processor(prompt, [image], return_tensors=\"pt\").to(\"cuda:0\")\n",
    "\n",
    "# Generate text response using model\n",
    "generate_ids = model.generate(\n",
    "    **inputs,\n",
    "    eos_token_id=processor.tokenizer.eos_token_id,\n",
    "    max_new_tokens=500,\n",
    "    do_sample=False,\n",
    ")\n",
    "\n",
    "# Remove input tokens from generated response\n",
    "generate_ids = generate_ids[:, inputs[\"input_ids\"].shape[1] :]\n",
    "\n",
    "# Decode generated IDs to text\n",
    "response = processor.batch_decode(\n",
    "    generate_ids, skip_special_tokens=True, clean_up_tokenization_spaces=False\n",
    ")[0]\n",
    "\n",
    "# Print the generated response\n",
    "print(response)"
   ]
  },
  {
   "cell_type": "code",
   "execution_count": 8,
   "id": "efd3e1df-b74a-4f3c-ac32-c2fbc554cbe0",
   "metadata": {},
   "outputs": [
    {
     "name": "stdout",
     "output_type": "stream",
     "text": [
      ">>> Prompt\n",
      "<|user|>\n",
      "what is the answer for 1+1? Explain it.<|end|>\n",
      "<|assistant|>\n",
      "\n",
      ">>> Response\n",
      "The answer to 1+1 is 2. This is a basic arithmetic operation known as addition, which combines two numbers, in this case, 1 and 1, to produce a total sum. The principle behind addition is that when you have a certain quantity and you add another identical quantity to it, the total quantity increases by one. So, when you add 1 to 1, you get 2 because you have one more than the original amount.\n"
     ]
    }
   ],
   "source": [
    "# chat\n",
    "user_prompt = '<|user|>\\n'\n",
    "assistant_prompt = '<|assistant|>\\n'\n",
    "prompt_suffix = \"<|end|>\\n\"\n",
    "\n",
    "prompt = f\"{user_prompt}what is the answer for 1+1? Explain it.{prompt_suffix}{assistant_prompt}\"\n",
    "print(f\">>> Prompt\\n{prompt}\")\n",
    "inputs = processor(prompt, images=None, return_tensors=\"pt\").to(\"cuda:0\")\n",
    "generate_ids = model.generate(**inputs, \n",
    "                              max_new_tokens=1000,\n",
    "                              eos_token_id=processor.tokenizer.eos_token_id,\n",
    "                              )\n",
    "generate_ids = generate_ids[:, inputs['input_ids'].shape[1]:]\n",
    "response = processor.batch_decode(generate_ids, \n",
    "                                  skip_special_tokens=True, \n",
    "                                  clean_up_tokenization_spaces=False)[0]\n",
    "print(f'>>> Response\\n{response}')"
   ]
  },
  {
   "cell_type": "code",
   "execution_count": null,
   "id": "00d76ebf-f2fa-4f4f-94b9-5eb03bdbeb6d",
   "metadata": {},
   "outputs": [],
   "source": []
  }
 ],
 "metadata": {
  "kernelspec": {
   "display_name": "Python 3 (ipykernel)",
   "language": "python",
   "name": "python3"
  },
  "language_info": {
   "codemirror_mode": {
    "name": "ipython",
    "version": 3
   },
   "file_extension": ".py",
   "mimetype": "text/x-python",
   "name": "python",
   "nbconvert_exporter": "python",
   "pygments_lexer": "ipython3",
   "version": "3.8.10"
  }
 },
 "nbformat": 4,
 "nbformat_minor": 5
}
