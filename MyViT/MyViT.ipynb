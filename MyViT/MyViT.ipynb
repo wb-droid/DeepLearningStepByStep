{
 "cells": [
  {
   "cell_type": "code",
   "execution_count": 1,
   "id": "927b55cf-2924-4c1d-863e-2b5debf8b018",
   "metadata": {},
   "outputs": [],
   "source": [
    "from einops import rearrange\n",
    "import torch\n",
    "from torch import nn\n",
    "import torchvision\n",
    "from torchvision import transforms\n",
    "from torchvision.transforms import ToTensor, Pad\n",
    "import matplotlib.pyplot as plt"
   ]
  },
  {
   "cell_type": "code",
   "execution_count": 2,
   "id": "674f6dc4-aa51-4a93-804e-5c301b56d51f",
   "metadata": {},
   "outputs": [],
   "source": [
    "fashion_data_train = torchvision.datasets.FashionMNIST(root='./data/', train=True, download=True, transform=transforms.Compose([Pad([2,2,2,2]), ToTensor()]))\n",
    "fashion_data_test = torchvision.datasets.FashionMNIST(root='./data/', train=False, download=True, transform=transforms.Compose([Pad([2,2,2,2]), ToTensor()]))"
   ]
  },
  {
   "cell_type": "code",
   "execution_count": 3,
   "id": "94b63728-5ef8-4174-bdef-bc0699cbd042",
   "metadata": {},
   "outputs": [],
   "source": [
    "dl_train = torch.utils.data.DataLoader(fashion_data_train, batch_size=64, shuffle=True, num_workers=4)\n",
    "dl_test = torch.utils.data.DataLoader(fashion_data_test, batch_size=128, shuffle=True, num_workers=4)"
   ]
  },
  {
   "cell_type": "code",
   "execution_count": 4,
   "id": "a076b92a-b7fb-4b19-90ab-a07128b1d3b9",
   "metadata": {},
   "outputs": [],
   "source": [
    "labels_map = {\n",
    "    0: \"T-Shirt\",\n",
    "    1: \"Trouser\",\n",
    "    2: \"Pullover\",\n",
    "    3: \"Dress\",\n",
    "    4: \"Coat\",\n",
    "    5: \"Sandal\",\n",
    "    6: \"Shirt\",\n",
    "    7: \"Sneaker\",\n",
    "    8: \"Bag\",\n",
    "    9: \"Ankle Boot\",\n",
    "}"
   ]
  },
  {
   "cell_type": "code",
   "execution_count": 5,
   "id": "fb1dfbb7-4134-4f05-be73-5b7ff696fd9f",
   "metadata": {},
   "outputs": [
    {
     "data": {
      "text/plain": [
       "torch.Size([64, 1, 32, 32])"
      ]
     },
     "execution_count": 5,
     "metadata": {},
     "output_type": "execute_result"
    }
   ],
   "source": [
    "x, y = next(iter(dl_train))\n",
    "x.shape"
   ]
  },
  {
   "cell_type": "code",
   "execution_count": 6,
   "id": "89a0d43f-202f-4229-ae51-ee312dc8ad5d",
   "metadata": {},
   "outputs": [
    {
     "name": "stdout",
     "output_type": "stream",
     "text": [
      "Trouser\n"
     ]
    },
    {
     "data": {
      "text/plain": [
       "<matplotlib.image.AxesImage at 0x7feab2f274d0>"
      ]
     },
     "execution_count": 6,
     "metadata": {},
     "output_type": "execute_result"
    },
    {
     "data": {
      "image/png": "[encoded data removed]",
      "text/plain": [
       "<Figure size 640x480 with 1 Axes>"
      ]
     },
     "metadata": {},
     "output_type": "display_data"
    }
   ],
   "source": [
    "print(labels_map[y[0].item()])\n",
    "plt.imshow(x[0].squeeze())"
   ]
  },
  {
   "cell_type": "code",
   "execution_count": 7,
   "id": "fc8b05ab-29c6-4ef2-92bf-1f7836bc083b",
   "metadata": {},
   "outputs": [
    {
     "name": "stdout",
     "output_type": "stream",
     "text": [
      "4 4\n"
     ]
    },
    {
     "data": {
      "text/plain": [
       "torch.Size([64, 16, 64])"
      ]
     },
     "execution_count": 7,
     "metadata": {},
     "output_type": "execute_result"
    }
   ],
   "source": [
    "n_patch = 16\n",
    "nh = nw = int(n_patch**.5)\n",
    "print(nh, nw)\n",
    "#rearrange(x, 'b c (nh ph) (nw pw) -> b (nh nw) (c ph pw)', nh=nh, nw=nw)\n",
    "x1 = rearrange(x, 'b c (nh ph) (nw pw) -> b nh nw (c ph pw)', nh=nh, nw=nw)\n",
    "x2 = rearrange(x1, 'b nh nw d -> b (nh nw) d', nh=nh, nw=nw).shape\n",
    "x2"
   ]
  },
  {
   "cell_type": "code",
   "execution_count": 8,
   "id": "684f901b-72e3-41b5-b826-ebd506879cbe",
   "metadata": {},
   "outputs": [],
   "source": [
    "device = \"cuda\"\n",
    "lr=1e-3"
   ]
  },
  {
   "cell_type": "code",
   "execution_count": 9,
   "id": "ec686d00-85cc-4f36-aef8-cd8c476c379c",
   "metadata": {},
   "outputs": [],
   "source": [
    "class Transformer_dummy(nn.Module):\n",
    "    def __init__(self, dim, mlp_hidden_dim=4098, attention_heads=8, depth=2 ):\n",
    "        super().__init__()\n",
    "\n",
    "    def forward(self, x):\n",
    "        return x\n",
    "        \n",
    "class MyViT(nn.Module):\n",
    "    def __init__(self, image_size, patch_size, dim, n_classes = len(labels_map), device = device, depth=5):\n",
    "        super().__init__()\n",
    "        self.image_size = image_size #height == width\n",
    "        self.patch_size = patch_size #height == width\n",
    "        self.dim = dim # dim of latent space for each patch\n",
    "        self.n_classes = n_classes\n",
    "        \n",
    "        self.nh = self.nw = image_size // patch_size \n",
    "        self.n_patches = self.nh * self.nw # number or patches, i.e. NLP's seq len\n",
    "\n",
    "        self.layernorm1 = nn.LayerNorm(self.patch_size**2)\n",
    "        self.ln = nn.Linear(self.patch_size**2, dim)\n",
    "        self.layernorm2 = nn.LayerNorm(dim)\n",
    "        self.pos_encoding = nn.Embedding(self.n_patches, self.dim)\n",
    "        self.transformer = Transformer(dim=self.dim, depth=depth)\n",
    "\n",
    "\n",
    "        #self.proj = nn.Linear(self.dim * self.n_patches, self.n_classes)\n",
    "        self.proj = nn.Linear(self.dim, self.n_classes)\n",
    "\n",
    "    def forward(self, x):\n",
    "        # rearrange 'b c (nh ph) (nw pw) -> b nh nw (c ph pw)'\n",
    "        x = rearrange(x, 'b c (nh ph) (nw pw) -> b nh nw (c ph pw)', nh=self.nh, nw=self.nw)\n",
    "        # rearrange 'b nh nw d -> b (nh nw) d'\n",
    "        x = rearrange(x, 'b nh nw d -> b (nh nw) d')\n",
    "\n",
    "        \n",
    "        x = self.layernorm1(x)        \n",
    "        x = self.ln(x) #(b n_patches patch_size*patch_size) -> (b n_patches dim)\n",
    "        x = self.layernorm2(x)\n",
    "\n",
    "        pos = self.pos_encoding(torch.arange(0, self.n_patches).to(device))\n",
    "\n",
    "        x = x + pos\n",
    "        \n",
    "        x = self.transformer(x)\n",
    "\n",
    "        #x = self.proj(x.view(x.shape[0],-1))\n",
    "        x = self.proj(x.mean(dim=1))\n",
    "\n",
    "        return x\n",
    "        "
   ]
  },
  {
   "cell_type": "code",
   "execution_count": 10,
   "id": "545f89e9-0acc-4b32-91dd-61d55194d970",
   "metadata": {},
   "outputs": [],
   "source": [
    "#model = MyViT(image_size=32, patch_size=8, dim=1024).to(device)"
   ]
  },
  {
   "cell_type": "code",
   "execution_count": 11,
   "id": "ad78ebd6-ddaa-4bbc-9806-765e557d0d84",
   "metadata": {},
   "outputs": [],
   "source": [
    "#lossFunc = nn.CrossEntropyLoss()\n",
    "#optimizer = torch.optim.Adam(model.parameters(), lr=lr)\n",
    "#lr_scheduler = \n",
    "\n",
    "def train(epoches):\n",
    "    for _ in range(epoches):\n",
    "        step = 0\n",
    "        losses = 0\n",
    "        model.train()\n",
    "        for data_train, label_train in dl_train:\n",
    "            data_train = (data_train-0.5).to(device)\n",
    "            label_train = label_train.to(device)\n",
    "            logits = model(data_train)\n",
    "            loss = lossFunc(logits, label_train)\n",
    "            loss.backward()\n",
    "            with torch.no_grad():\n",
    "                optimizer.step()\n",
    "                optimizer.zero_grad()\n",
    "        \n",
    "            step+=1\n",
    "            if step % 100 == 0:\n",
    "                print(f\"loss is {losses/100}\")\n",
    "                losses = 0\n",
    "            losses += loss.item()\n",
    "\n",
    "        model.eval()\n",
    "        with torch.no_grad():\n",
    "            data_test, label_test = next(iter(dl_test))\n",
    "            data_test = (data_test-0.5).to(device)\n",
    "            label_test = label_test.to(device)\n",
    "            logits = model(data_test)\n",
    "            accuracy = (logits.argmax(dim=-1) == label_test).sum()/label_test.shape[0]\n",
    "            print(f\"accuracy is {accuracy}\")\n",
    "        \n",
    "    "
   ]
  },
  {
   "cell_type": "code",
   "execution_count": 12,
   "id": "8ab13201-e72d-4ee4-bef4-6151a7f4ee94",
   "metadata": {},
   "outputs": [
    {
     "data": {
      "text/plain": [
       "79"
      ]
     },
     "execution_count": 12,
     "metadata": {},
     "output_type": "execute_result"
    }
   ],
   "source": [
    "len(dl_test)"
   ]
  },
  {
   "cell_type": "code",
   "execution_count": 13,
   "id": "6be6a937-6e38-4808-a19a-eb4bd47346a6",
   "metadata": {},
   "outputs": [],
   "source": [
    "class MLPBlock(nn.Module):\n",
    "    def __init__(self, dim, mlp_hidden_dim=4096, dropout=0.):\n",
    "        super().__init__()\n",
    "        self.layernorm = nn.LayerNorm(dim)\n",
    "        self.dropout = nn.Dropout(dropout)\n",
    "        self.dropout2 = nn.Dropout(dropout)\n",
    "        self.proj1 = nn.Linear(dim, mlp_hidden_dim)\n",
    "        self.proj2 = nn.Linear(mlp_hidden_dim, dim)\n",
    "        self.activation = nn.GELU()\n",
    "\n",
    "    def forward(self, x):\n",
    "        x = self.layernorm(x)\n",
    "\n",
    "        x = self.proj1(x)\n",
    "        x = self.activation(x)\n",
    "        x = self.dropout(x)        \n",
    "        x = self.proj2(x)\n",
    "        x = self.dropout2(x)\n",
    "        \n",
    "        return x\n",
    "        \n",
    "class AttentionBlock(nn.Module):\n",
    "    def __init__(self, dim, attention_heads = 8, depth=2, dropout=0.):\n",
    "        super().__init__()\n",
    "        self.dim = dim\n",
    "        self.attention_heads = attention_heads\n",
    "        \n",
    "        self.layernorm = nn.LayerNorm(dim)\n",
    "        self.proj = nn.Linear(dim, 3*dim)\n",
    "        self.attention = nn.Softmax(dim = -1)\n",
    "        self.drop = nn.Dropout(dropout)\n",
    "\n",
    "    def forward(self, x):\n",
    "        x = self.layernorm(x)\n",
    "        q,k,v = self.proj(x).chunk(3, dim=-1)\n",
    "        \n",
    "        # rearrange to b, num_heads, seq, head_size\n",
    "        q = rearrange(q, 'b s (nh hs) -> b nh s hs', nh = self.attention_heads)\n",
    "        k = rearrange(k, 'b s (nh hs) -> b nh hs s', nh = self.attention_heads)\n",
    "        v = rearrange(v, 'b s (nh hs) -> b nh s hs', nh = self.attention_heads)\n",
    "\n",
    "        # attention q@kT\n",
    "        x = q@k\n",
    "\n",
    "        # scale\n",
    "        x = x * (k.shape[-1] ** -0.5)\n",
    "\n",
    "        # attention mask not needed\n",
    "        #x = x.mask_fill(torch.ones((1,1, k.shape[-1], k.shape[-1])).tril())\n",
    "\n",
    "        # attention softmax\n",
    "        x = self.attention(x)\n",
    "\n",
    "        # drop out\n",
    "        x = self.drop(x)\n",
    "\n",
    "        # attention q@kT@v\n",
    "        x = x@v\n",
    "\n",
    "        # rearrange to b, seq, (num_heads, head_size)\n",
    "        x = rearrange(x, 'b nh s hs -> b s (nh hs)', nh = self.attention_heads)\n",
    "\n",
    "        return x\n",
    "        \n",
    "\n",
    "class Transformer(nn.Module):\n",
    "    def __init__(self, dim, mlp_hidden_dim=4098, attention_heads=8, depth=5 ):\n",
    "        super().__init__()\n",
    "        self.layernorm = nn.LayerNorm(dim)\n",
    "        #self.net = nn.Sequential(*([AttentionBlock(dim=dim), MLPBlock(dim=dim)] * depth))\n",
    "        #self.net = nn.Sequential(*([MLPBlock(dim=dim)] * depth))\n",
    "        self.net = nn.ModuleList([AttentionBlock(dim=dim), MLPBlock(dim=dim)] * depth)\n",
    "        \n",
    "\n",
    "    def forward(self, x):\n",
    "        for m in self.net:\n",
    "            x = x + m(x)\n",
    "        x = self.layernorm(x)\n",
    "        return x"
   ]
  },
  {
   "cell_type": "code",
   "execution_count": 14,
   "id": "392f6c0f-4bf9-4f3b-84fe-bdd7094b5e9a",
   "metadata": {},
   "outputs": [],
   "source": [
    "model = MyViT(image_size=32, patch_size=4, dim=256, depth=2).to(device)\n",
    "lossFunc = nn.CrossEntropyLoss()\n",
    "optimizer = torch.optim.Adam(model.parameters(), lr=lr)"
   ]
  },
  {
   "cell_type": "code",
   "execution_count": 17,
   "id": "34fa750f-1f56-499b-8e76-5c629dd07e48",
   "metadata": {
    "scrolled": true
   },
   "outputs": [
    {
     "name": "stdout",
     "output_type": "stream",
     "text": [
      "loss is 1.1556322646141053\n",
      "loss is 0.6365352895855904\n",
      "loss is 0.5412473030388355\n",
      "loss is 0.5158590659499168\n",
      "loss is 0.4675754211843014\n",
      "loss is 0.447547090947628\n",
      "loss is 0.45171445965766904\n",
      "loss is 0.39996898457407953\n",
      "loss is 0.400007429420948\n",
      "accuracy is 0.8515625\n",
      "loss is 0.3653336361050606\n",
      "loss is 0.3598775805532932\n",
      "loss is 0.3701637613773346\n",
      "loss is 0.373639519661665\n",
      "loss is 0.35503422901034354\n",
      "loss is 0.36261730805039405\n",
      "loss is 0.3571916051208973\n",
      "loss is 0.35216414242982863\n",
      "loss is 0.34049608260393144\n",
      "accuracy is 0.875\n",
      "loss is 0.30841057196259497\n",
      "loss is 0.29692624680697915\n",
      "loss is 0.3094658311456442\n",
      "loss is 0.32230329111218453\n",
      "loss is 0.3086127416789532\n",
      "loss is 0.31288267724215985\n",
      "loss is 0.3075242643803358\n",
      "loss is 0.3006883884221315\n",
      "loss is 0.301412169188261\n",
      "accuracy is 0.8515625\n",
      "loss is 0.259475910961628\n",
      "loss is 0.2638974793255329\n",
      "loss is 0.26720745969563725\n",
      "loss is 0.266714890897274\n",
      "loss is 0.28658212646842\n",
      "loss is 0.28004994966089725\n",
      "loss is 0.2748061515390873\n",
      "loss is 0.28585870668292046\n",
      "loss is 0.28864468917250635\n",
      "accuracy is 0.8828125\n",
      "loss is 0.2342733258754015\n",
      "loss is 0.24188248217105865\n",
      "loss is 0.2319269921630621\n",
      "loss is 0.257478566467762\n",
      "loss is 0.262670191898942\n",
      "loss is 0.25887869007885456\n",
      "loss is 0.2650331585854292\n",
      "loss is 0.25832315735518935\n",
      "loss is 0.25389482609927655\n",
      "accuracy is 0.90625\n",
      "loss is 0.19620724927634\n",
      "loss is 0.210416329652071\n",
      "loss is 0.22572848305106163\n",
      "loss is 0.23841935843229295\n",
      "loss is 0.24006599642336368\n",
      "loss is 0.23131430231034755\n",
      "loss is 0.22267721869051457\n",
      "loss is 0.24399939976632595\n",
      "loss is 0.22497396927326918\n",
      "accuracy is 0.8671875\n",
      "loss is 0.18018791548907756\n",
      "loss is 0.19839392967522143\n",
      "loss is 0.1767152964323759\n",
      "loss is 0.20421208657324313\n",
      "loss is 0.20689732410013675\n",
      "loss is 0.1943565283343196\n",
      "loss is 0.21437250010669232\n",
      "loss is 0.21672095358371735\n",
      "loss is 0.21544406943023206\n",
      "accuracy is 0.921875\n",
      "loss is 0.1437764051184058\n",
      "loss is 0.16988517969846725\n",
      "loss is 0.17849438045173882\n",
      "loss is 0.19312465142458676\n",
      "loss is 0.19068162735551597\n",
      "loss is 0.1857167337089777\n",
      "loss is 0.18254911705851554\n",
      "loss is 0.19698794484138488\n",
      "loss is 0.18948060546070336\n",
      "accuracy is 0.890625\n",
      "loss is 0.14414692245423794\n",
      "loss is 0.13907304108142854\n",
      "loss is 0.13893431648612023\n",
      "loss is 0.16558646634221078\n",
      "loss is 0.1791895439848304\n",
      "loss is 0.15299201358109712\n",
      "loss is 0.15374065116047858\n",
      "loss is 0.19717791367322207\n",
      "loss is 0.17612086158245802\n",
      "accuracy is 0.875\n",
      "loss is 0.1179352816939354\n",
      "loss is 0.12771906362846494\n",
      "loss is 0.13257499922066926\n",
      "loss is 0.13060407184064388\n",
      "loss is 0.1379130763746798\n",
      "loss is 0.14549560613930226\n",
      "loss is 0.15854986924678088\n",
      "loss is 0.15823725536465644\n",
      "loss is 0.1559769554808736\n",
      "accuracy is 0.890625\n"
     ]
    }
   ],
   "source": [
    "train(epoches = 10)"
   ]
  },
  {
   "cell_type": "code",
   "execution_count": 18,
   "id": "5942b8f6-6dff-4307-a456-6ca36d86a4b1",
   "metadata": {},
   "outputs": [],
   "source": [
    "torch.save(model, \"vit01.pt\")"
   ]
  },
  {
   "cell_type": "code",
   "execution_count": null,
   "id": "a33fb578-000a-4ab9-a29c-5eb74b166fbf",
   "metadata": {},
   "outputs": [],
   "source": []
  }
 ],
 "metadata": {
  "kernelspec": {
   "display_name": "base",
   "language": "python",
   "name": "base"
  },
  "language_info": {
   "codemirror_mode": {
    "name": "ipython",
    "version": 3
   },
   "file_extension": ".py",
   "mimetype": "text/x-python",
   "name": "python",
   "nbconvert_exporter": "python",
   "pygments_lexer": "ipython3",
   "version": "3.11.7"
  }
 },
 "nbformat": 4,
 "nbformat_minor": 5
}
