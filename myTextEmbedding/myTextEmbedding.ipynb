{
 "cells": [
  {
   "cell_type": "code",
   "execution_count": 1,
   "id": "ed8ca97a-f5ec-4cfc-9524-f9c2bb21e80d",
   "metadata": {},
   "outputs": [],
   "source": [
    "# References:\n",
    "# https://github.com/UKPLab/sentence-transformers\n",
    "# Sentence-BERT: Sentence Embeddings using Siamese BERT-Networks (https://arxiv.org/pdf/1908.10084)\n",
    "# Data:\n",
    "# https://sbert.net/datasets/stsbenchmark.tsv.gz"
   ]
  },
  {
   "cell_type": "code",
   "execution_count": 2,
   "id": "f4dddd46-730b-4654-b320-938ce6761f97",
   "metadata": {},
   "outputs": [],
   "source": [
    "import torch\n",
    "import torch.nn as nn\n",
    "from torch import tensor \n",
    "from transformers import BertModel, BertTokenizer\n",
    "import gzip\n",
    "import pandas as pd"
   ]
  },
  {
   "cell_type": "code",
   "execution_count": 3,
   "id": "34723088-7c98-41b1-ae63-8058a185748b",
   "metadata": {},
   "outputs": [],
   "source": [
    "device = \"cuda\""
   ]
  },
  {
   "cell_type": "code",
   "execution_count": 4,
   "id": "da7ec0d0-e631-4895-9faa-eef50168e6af",
   "metadata": {},
   "outputs": [],
   "source": [
    "# Language model is defined (BERT + pooling)"
   ]
  },
  {
   "cell_type": "code",
   "execution_count": 5,
   "id": "46aecb93-b87e-4837-8d24-ae34a11cb7df",
   "metadata": {},
   "outputs": [],
   "source": [
    "class EmbeddingModel(nn.Module):\n",
    "    def __init__(self, bertName = \"bert-base-uncased\"): # other bert models can also be supported\n",
    "        super().__init__()\n",
    "        self.bertName = bertName\n",
    "        # use BERT model\n",
    "        self.tokenizer = BertTokenizer.from_pretrained(self.bertName)\n",
    "        self.model = BertModel.from_pretrained(self.bertName)        \n",
    "       \n",
    "    def forward(self, s, device = \"cuda\"):\n",
    "        # get tokens, which also include attention_mask\n",
    "        tokens = self.tokenizer(s, return_tensors='pt', padding = \"max_length\", truncation = True, max_length = 256).to(device)\n",
    "        \n",
    "        # get token embeddings\n",
    "        output = self.model(**tokens)\n",
    "        tokens_embeddings = output.last_hidden_state\n",
    "        #print(\"tokens_embeddings:\" + str(tokens_embeddings.shape))\n",
    "        \n",
    "        # mean pooling to get text embedding\n",
    "        embeddings = tokens_embeddings * tokens.attention_mask[...,None] # [B, T, emb]\n",
    "        #print(\"embeddings:\" + str(embeddings.shape))\n",
    "        \n",
    "        embeddings = embeddings.sum(1) # [B, emb]\n",
    "        valid_tokens = tokens.attention_mask.sum(1) # [B]\n",
    "        embeddings = embeddings / valid_tokens[...,None] # [B, emb]    \n",
    "        \n",
    "        return embeddings\n",
    "\n",
    "    # from scratch: nn.CosineSimilarity(dim = 1)(q,a)\n",
    "    def cos_score(self, q, a): \n",
    "        q_norm = q / (q.pow(2).sum(dim=1, keepdim=True).pow(0.5))\n",
    "        r_norm = a / (a.pow(2).sum(dim=1, keepdim=True).pow(0.5))\n",
    "        return (q_norm @ r_norm.T).diagonal()"
   ]
  },
  {
   "cell_type": "code",
   "execution_count": 6,
   "id": "4716b219-2f1f-4d84-a79f-2ab0f858cf9d",
   "metadata": {},
   "outputs": [],
   "source": [
    "# Language model (such as BERT + pooling model above) can be used directly as embedding model. Train it on data with similarity score to get better result."
   ]
  },
  {
   "cell_type": "code",
   "execution_count": 7,
   "id": "ae7896fb-99ba-41ec-bec5-3a61fa72e9e1",
   "metadata": {},
   "outputs": [],
   "source": [
    "# contrastive training\n",
    "class TrainModel(nn.Module):\n",
    "    def __init__(self):\n",
    "        super().__init__()\n",
    "        self.m = EmbeddingModel(\"bert-base-uncased\")\n",
    "\n",
    "    def forward(self, s1, s2, score):        \n",
    "        cos_score = self.m.cos_score(self.m(s1), self.m(s2))\n",
    "        loss = nn.MSELoss()(cos_score, score)\n",
    "        return loss, cos_score"
   ]
  },
  {
   "cell_type": "code",
   "execution_count": 8,
   "id": "0b6fcc65-c676-46fc-aca9-331618bcbfbf",
   "metadata": {},
   "outputs": [],
   "source": [
    "train = TrainModel().to(device)"
   ]
  },
  {
   "cell_type": "code",
   "execution_count": 9,
   "id": "05172eeb-34dc-4f99-855c-c7d6464eb01a",
   "metadata": {},
   "outputs": [],
   "source": [
    "def test_train():\n",
    "    loss, _ = train(sentences_q, sentences_a, tensor([0.8,0.7,0.7]).to(device))\n",
    "    print(loss)\n",
    "    loss.backward()\n",
    "    with torch.no_grad():\n",
    "        optimizer.step()\n",
    "        optimizer.zero_grad()"
   ]
  },
  {
   "cell_type": "code",
   "execution_count": 10,
   "id": "a83220c8-5d7f-4511-a04a-d06c48152579",
   "metadata": {},
   "outputs": [],
   "source": [
    "# training data\n",
    "#!wget https://sbert.net/datasets/stsbenchmark.tsv.gz"
   ]
  },
  {
   "cell_type": "code",
   "execution_count": 11,
   "id": "5129c09f-67c4-4a31-a808-e2d4c145ee3c",
   "metadata": {},
   "outputs": [],
   "source": [
    "#!gzip -d stsbenchmark.tsv.gz"
   ]
  },
  {
   "cell_type": "code",
   "execution_count": 12,
   "id": "f5bd5c5c-903e-443a-9306-13b066d64a33",
   "metadata": {},
   "outputs": [],
   "source": [
    "df = pd.read_csv(\"stsbenchmark.tsv\", delimiter=\"\\t\", low_memory = False, on_bad_lines = 'skip',  skiprows=[8300])"
   ]
  },
  {
   "cell_type": "code",
   "execution_count": 13,
   "id": "d710e308-839f-4eb5-8d3a-3f0263d725b8",
   "metadata": {},
   "outputs": [
    {
     "data": {
      "text/plain": [
       "True"
      ]
     },
     "execution_count": 13,
     "metadata": {},
     "output_type": "execute_result"
    }
   ],
   "source": [
    "df.isna().any(axis=None)"
   ]
  },
  {
   "cell_type": "code",
   "execution_count": 14,
   "id": "cef1e02e-8d33-4985-a229-4ef635e0b32f",
   "metadata": {},
   "outputs": [],
   "source": [
    "df = df.dropna().copy()"
   ]
  },
  {
   "cell_type": "code",
   "execution_count": 15,
   "id": "e5c46353-04db-46c1-a967-546fe9c0ec97",
   "metadata": {},
   "outputs": [],
   "source": [
    "df['sentence1'] = df['sentence1'].apply(lambda x: x.strip())"
   ]
  },
  {
   "cell_type": "code",
   "execution_count": 16,
   "id": "6babe1ae-f2b2-468f-9c70-d551db26d8af",
   "metadata": {},
   "outputs": [
    {
     "data": {
      "text/html": [
       "<div>\n",
       "<style scoped>\n",
       "    .dataframe tbody tr th:only-of-type {\n",
       "        vertical-align: middle;\n",
       "    }\n",
       "\n",
       "    .dataframe tbody tr th {\n",
       "        vertical-align: top;\n",
       "    }\n",
       "\n",
       "    .dataframe thead th {\n",
       "        text-align: right;\n",
       "    }\n",
       "</style>\n",
       "<table border=\"1\" class=\"dataframe\">\n",
       "  <thead>\n",
       "    <tr style=\"text-align: right;\">\n",
       "      <th></th>\n",
       "      <th>split</th>\n",
       "      <th>genre</th>\n",
       "      <th>dataset</th>\n",
       "      <th>year</th>\n",
       "      <th>sid</th>\n",
       "      <th>score</th>\n",
       "      <th>sentence1</th>\n",
       "      <th>sentence2</th>\n",
       "    </tr>\n",
       "  </thead>\n",
       "  <tbody>\n",
       "    <tr>\n",
       "      <th>0</th>\n",
       "      <td>train</td>\n",
       "      <td>main-captions</td>\n",
       "      <td>MSRvid</td>\n",
       "      <td>2012test</td>\n",
       "      <td>1</td>\n",
       "      <td>5.00</td>\n",
       "      <td>A plane is taking off.</td>\n",
       "      <td>An air plane is taking off.</td>\n",
       "    </tr>\n",
       "    <tr>\n",
       "      <th>1</th>\n",
       "      <td>train</td>\n",
       "      <td>main-captions</td>\n",
       "      <td>MSRvid</td>\n",
       "      <td>2012test</td>\n",
       "      <td>4</td>\n",
       "      <td>3.80</td>\n",
       "      <td>A man is playing a large flute.</td>\n",
       "      <td>A man is playing a flute.</td>\n",
       "    </tr>\n",
       "    <tr>\n",
       "      <th>2</th>\n",
       "      <td>train</td>\n",
       "      <td>main-captions</td>\n",
       "      <td>MSRvid</td>\n",
       "      <td>2012test</td>\n",
       "      <td>5</td>\n",
       "      <td>3.80</td>\n",
       "      <td>A man is spreading shreded cheese on a pizza.</td>\n",
       "      <td>A man is spreading shredded cheese on an uncoo...</td>\n",
       "    </tr>\n",
       "    <tr>\n",
       "      <th>3</th>\n",
       "      <td>train</td>\n",
       "      <td>main-captions</td>\n",
       "      <td>MSRvid</td>\n",
       "      <td>2012test</td>\n",
       "      <td>6</td>\n",
       "      <td>2.60</td>\n",
       "      <td>Three men are playing chess.</td>\n",
       "      <td>Two men are playing chess.</td>\n",
       "    </tr>\n",
       "    <tr>\n",
       "      <th>4</th>\n",
       "      <td>train</td>\n",
       "      <td>main-captions</td>\n",
       "      <td>MSRvid</td>\n",
       "      <td>2012test</td>\n",
       "      <td>9</td>\n",
       "      <td>4.25</td>\n",
       "      <td>A man is playing the cello.</td>\n",
       "      <td>A man seated is playing the cello.</td>\n",
       "    </tr>\n",
       "  </tbody>\n",
       "</table>\n",
       "</div>"
      ],
      "text/plain": [
       "   split          genre dataset      year  sid  score  \\\n",
       "0  train  main-captions  MSRvid  2012test    1   5.00   \n",
       "1  train  main-captions  MSRvid  2012test    4   3.80   \n",
       "2  train  main-captions  MSRvid  2012test    5   3.80   \n",
       "3  train  main-captions  MSRvid  2012test    6   2.60   \n",
       "4  train  main-captions  MSRvid  2012test    9   4.25   \n",
       "\n",
       "                                       sentence1  \\\n",
       "0                         A plane is taking off.   \n",
       "1                A man is playing a large flute.   \n",
       "2  A man is spreading shreded cheese on a pizza.   \n",
       "3                   Three men are playing chess.   \n",
       "4                    A man is playing the cello.   \n",
       "\n",
       "                                           sentence2  \n",
       "0                        An air plane is taking off.  \n",
       "1                          A man is playing a flute.  \n",
       "2  A man is spreading shredded cheese on an uncoo...  \n",
       "3                         Two men are playing chess.  \n",
       "4                 A man seated is playing the cello.  "
      ]
     },
     "execution_count": 16,
     "metadata": {},
     "output_type": "execute_result"
    }
   ],
   "source": [
    "df.head()"
   ]
  },
  {
   "cell_type": "code",
   "execution_count": 17,
   "id": "00b99a00-5d18-452e-b5d0-db0336bf686c",
   "metadata": {},
   "outputs": [
    {
     "data": {
      "text/plain": [
       "8282"
      ]
     },
     "execution_count": 17,
     "metadata": {},
     "output_type": "execute_result"
    }
   ],
   "source": [
    "# normalize to 0...1\n",
    "df['score_'] = df['score']/5\n",
    "len(df)"
   ]
  },
  {
   "cell_type": "code",
   "execution_count": 18,
   "id": "d47b7615-6786-4a94-b8d6-1fca53ad6f16",
   "metadata": {},
   "outputs": [
    {
     "data": {
      "text/plain": [
       "(5703, 1463, 1116)"
      ]
     },
     "execution_count": 18,
     "metadata": {},
     "output_type": "execute_result"
    }
   ],
   "source": [
    "df_train = df[df['split']=='train']\n",
    "df_eval = df[df['split']=='dev']\n",
    "df_test = df[df['split']=='test']\n",
    "len(df_train), len(df_eval), len(df_test)"
   ]
  },
  {
   "cell_type": "code",
   "execution_count": 19,
   "id": "e95e2755-04e1-4d02-b799-eaba2e8cffbd",
   "metadata": {},
   "outputs": [
    {
     "data": {
      "text/plain": [
       "array(['train', 'dev', 'test'], dtype=object)"
      ]
     },
     "execution_count": 19,
     "metadata": {},
     "output_type": "execute_result"
    }
   ],
   "source": [
    "df['split'].unique()"
   ]
  },
  {
   "cell_type": "code",
   "execution_count": 20,
   "id": "fb6ef1ec-93d8-4947-bbf5-e11b4999369b",
   "metadata": {},
   "outputs": [],
   "source": [
    "batch_size = 4\n",
    "epochs = 1"
   ]
  },
  {
   "cell_type": "code",
   "execution_count": 21,
   "id": "fd56a886-8182-4d8f-bf64-c2bbdeff432a",
   "metadata": {},
   "outputs": [],
   "source": [
    "def train_loop(training = True):\n",
    "    if training == True:\n",
    "        optimizer = torch.optim.AdamW(train.parameters(), lr=1e-5)\n",
    "    losses = 0\n",
    "    losses_eval = 0\n",
    "    for i in range(0,len(df_train),batch_size):\n",
    "        #if training == True:\n",
    "        if 1:\n",
    "            train.train()\n",
    "            batch = df_train.iloc[i:i+batch_size]\n",
    "            \n",
    "            loss, _ = train(list(batch['sentence1']), list(batch['sentence2']), tensor(list(batch['score_'].apply(lambda x: float(x)))).float().to(device) )\n",
    "            losses += loss\n",
    "        \n",
    "            loss.backward()\n",
    "            with torch.no_grad():\n",
    "                optimizer.step()\n",
    "                optimizer.zero_grad()   \n",
    "        \n",
    "        #else:\n",
    "            train.eval()\n",
    "            ieval = i % len(df_eval)\n",
    "            batch = df_eval.iloc[ieval:ieval+batch_size]\n",
    "            with torch.no_grad():\n",
    "                loss, _ = train(list(batch['sentence1']), list(batch['sentence2']), tensor(list(batch['score_'].apply(lambda x: float(x)))).float().to(device) )\n",
    "            losses_eval += loss\n",
    "            \n",
    "        if (i % 200 == 0):\n",
    "            print(f'batch {i}, loss {losses/200} eval {losses_eval/200}')\n",
    "            losses = 0\n",
    "            losses_eval = 0\n",
    "            #if i > 1000:\n",
    "            #    break\n",
    "\n",
    "        #break"
   ]
  },
  {
   "cell_type": "code",
   "execution_count": 22,
   "id": "4fcea8ec-cf53-40c7-ae16-64a1e50e57eb",
   "metadata": {},
   "outputs": [
    {
     "name": "stdout",
     "output_type": "stream",
     "text": [
      "batch 0, loss 0.00027302277158014476 eval 0.0003261603997088969\n",
      "batch 200, loss 0.01464193593710661 eval 0.024115221574902534\n",
      "batch 400, loss 0.006054205354303122 eval 0.01201570499688387\n",
      "batch 600, loss 0.007819064892828465 eval 0.010829409584403038\n",
      "batch 800, loss 0.006070663221180439 eval 0.02249162830412388\n",
      "batch 1000, loss 0.0053120506927371025 eval 0.01738635264337063\n",
      "batch 1200, loss 0.00723802438005805 eval 0.0139848031103611\n",
      "batch 1400, loss 0.005778112448751926 eval 0.02004367485642433\n",
      "batch 1600, loss 0.006132963113486767 eval 0.01131927128881216\n",
      "batch 1800, loss 0.006502231582999229 eval 0.006938617676496506\n",
      "batch 2000, loss 0.006008408032357693 eval 0.006858306471258402\n",
      "batch 2200, loss 0.012104008346796036 eval 0.013000665232539177\n",
      "batch 2400, loss 0.008949452079832554 eval 0.010031194426119328\n",
      "batch 2600, loss 0.009327622130513191 eval 0.010410006158053875\n",
      "batch 2800, loss 0.005697215441614389 eval 0.010961009189486504\n",
      "batch 3000, loss 0.006327271927148104 eval 0.013235754333436489\n",
      "batch 3200, loss 0.004717939533293247 eval 0.0069634392857551575\n",
      "batch 3400, loss 0.004788425285369158 eval 0.006504938937723637\n",
      "batch 3600, loss 0.006107784807682037 eval 0.008275063708424568\n",
      "batch 3800, loss 0.00851244106888771 eval 0.007719963788986206\n",
      "batch 4000, loss 0.008291223086416721 eval 0.006974535994231701\n",
      "batch 4200, loss 0.0077782305888831615 eval 0.005961213726550341\n",
      "batch 4400, loss 0.008381509222090244 eval 0.009326343424618244\n",
      "batch 4600, loss 0.007279564626514912 eval 0.005153235513716936\n",
      "batch 4800, loss 0.007682467345148325 eval 0.007166635245084763\n",
      "batch 5000, loss 0.007379502523690462 eval 0.007812561467289925\n",
      "batch 5200, loss 0.007642876356840134 eval 0.012192189693450928\n",
      "batch 5400, loss 0.007769545074552298 eval 0.008972546085715294\n",
      "batch 5600, loss 0.00882473960518837 eval 0.006600756663829088\n"
     ]
    }
   ],
   "source": [
    "train_loop()"
   ]
  },
  {
   "cell_type": "code",
   "execution_count": 23,
   "id": "37a99c2d-76c4-4c95-92ff-ebebb5c8aeb8",
   "metadata": {},
   "outputs": [],
   "source": [
    "torch.save(train,\"myTextEmbedding.pt\")"
   ]
  },
  {
   "cell_type": "code",
   "execution_count": 28,
   "id": "531f085c-fe58-4018-ac21-799030177044",
   "metadata": {},
   "outputs": [],
   "source": [
    "train_load=torch.load(\"myTextEmbedding.pt\")"
   ]
  },
  {
   "cell_type": "code",
   "execution_count": 54,
   "id": "570dc601-a3c2-4f1b-8a5e-3c8c890c1d7b",
   "metadata": {},
   "outputs": [
    {
     "data": {
      "text/html": [
       "<div>\n",
       "<style scoped>\n",
       "    .dataframe tbody tr th:only-of-type {\n",
       "        vertical-align: middle;\n",
       "    }\n",
       "\n",
       "    .dataframe tbody tr th {\n",
       "        vertical-align: top;\n",
       "    }\n",
       "\n",
       "    .dataframe thead th {\n",
       "        text-align: right;\n",
       "    }\n",
       "</style>\n",
       "<table border=\"1\" class=\"dataframe\">\n",
       "  <thead>\n",
       "    <tr style=\"text-align: right;\">\n",
       "      <th></th>\n",
       "      <th>split</th>\n",
       "      <th>genre</th>\n",
       "      <th>dataset</th>\n",
       "      <th>year</th>\n",
       "      <th>sid</th>\n",
       "      <th>score</th>\n",
       "      <th>sentence1</th>\n",
       "      <th>sentence2</th>\n",
       "      <th>score_</th>\n",
       "    </tr>\n",
       "  </thead>\n",
       "  <tbody>\n",
       "    <tr>\n",
       "      <th>5706</th>\n",
       "      <td>dev</td>\n",
       "      <td>main-captions</td>\n",
       "      <td>MSRvid</td>\n",
       "      <td>2012test</td>\n",
       "      <td>0</td>\n",
       "      <td>5.00</td>\n",
       "      <td>A man with a hard hat is dancing.</td>\n",
       "      <td>A man wearing a hard hat is dancing.</td>\n",
       "      <td>1.00</td>\n",
       "    </tr>\n",
       "    <tr>\n",
       "      <th>5707</th>\n",
       "      <td>dev</td>\n",
       "      <td>main-captions</td>\n",
       "      <td>MSRvid</td>\n",
       "      <td>2012test</td>\n",
       "      <td>2</td>\n",
       "      <td>4.75</td>\n",
       "      <td>A young child is riding a horse.</td>\n",
       "      <td>A child is riding a horse.</td>\n",
       "      <td>0.95</td>\n",
       "    </tr>\n",
       "    <tr>\n",
       "      <th>5708</th>\n",
       "      <td>dev</td>\n",
       "      <td>main-captions</td>\n",
       "      <td>MSRvid</td>\n",
       "      <td>2012test</td>\n",
       "      <td>3</td>\n",
       "      <td>5.00</td>\n",
       "      <td>A man is feeding a mouse to a snake.</td>\n",
       "      <td>The man is feeding a mouse to the snake.</td>\n",
       "      <td>1.00</td>\n",
       "    </tr>\n",
       "    <tr>\n",
       "      <th>5709</th>\n",
       "      <td>dev</td>\n",
       "      <td>main-captions</td>\n",
       "      <td>MSRvid</td>\n",
       "      <td>2012test</td>\n",
       "      <td>7</td>\n",
       "      <td>2.40</td>\n",
       "      <td>A woman is playing the guitar.</td>\n",
       "      <td>A man is playing guitar.</td>\n",
       "      <td>0.48</td>\n",
       "    </tr>\n",
       "    <tr>\n",
       "      <th>5710</th>\n",
       "      <td>dev</td>\n",
       "      <td>main-captions</td>\n",
       "      <td>MSRvid</td>\n",
       "      <td>2012test</td>\n",
       "      <td>8</td>\n",
       "      <td>2.75</td>\n",
       "      <td>A woman is playing the flute.</td>\n",
       "      <td>A man is playing a flute.</td>\n",
       "      <td>0.55</td>\n",
       "    </tr>\n",
       "  </tbody>\n",
       "</table>\n",
       "</div>"
      ],
      "text/plain": [
       "     split          genre dataset      year  sid  score  \\\n",
       "5706   dev  main-captions  MSRvid  2012test    0   5.00   \n",
       "5707   dev  main-captions  MSRvid  2012test    2   4.75   \n",
       "5708   dev  main-captions  MSRvid  2012test    3   5.00   \n",
       "5709   dev  main-captions  MSRvid  2012test    7   2.40   \n",
       "5710   dev  main-captions  MSRvid  2012test    8   2.75   \n",
       "\n",
       "                                 sentence1  \\\n",
       "5706     A man with a hard hat is dancing.   \n",
       "5707      A young child is riding a horse.   \n",
       "5708  A man is feeding a mouse to a snake.   \n",
       "5709        A woman is playing the guitar.   \n",
       "5710         A woman is playing the flute.   \n",
       "\n",
       "                                     sentence2  score_  \n",
       "5706      A man wearing a hard hat is dancing.    1.00  \n",
       "5707                A child is riding a horse.    0.95  \n",
       "5708  The man is feeding a mouse to the snake.    1.00  \n",
       "5709                  A man is playing guitar.    0.48  \n",
       "5710                 A man is playing a flute.    0.55  "
      ]
     },
     "execution_count": 54,
     "metadata": {},
     "output_type": "execute_result"
    }
   ],
   "source": [
    "df_eval.head()"
   ]
  },
  {
   "cell_type": "code",
   "execution_count": 29,
   "id": "d1b057d4-eea9-4f0d-9e7f-f39188c24f93",
   "metadata": {},
   "outputs": [],
   "source": [
    "m = train_load.m"
   ]
  },
  {
   "cell_type": "code",
   "execution_count": 30,
   "id": "bb0cbc3a-1034-4b6a-8dc7-451eda60a217",
   "metadata": {},
   "outputs": [
    {
     "name": "stdout",
     "output_type": "stream",
     "text": [
      "torch.Size([4, 768])\n",
      "tensor([[-0.4339,  0.7072,  0.4792,  ..., -0.0786, -0.5483,  0.7098],\n",
      "        [-0.2738, -1.2630, -1.2442,  ..., -0.3334,  0.3641, -0.6543],\n",
      "        [ 0.7409, -0.2056,  0.0571,  ...,  0.4372,  0.1220,  0.6263],\n",
      "        [ 0.3777, -1.3719,  0.2469,  ...,  0.4906, -0.4489, -0.2948]],\n",
      "       device='cuda:0', grad_fn=<DivBackward0>)\n",
      "tensor([[-0.3643,  0.6227,  0.4585,  ...,  0.0225, -0.5529,  0.7337],\n",
      "        [-0.4042, -1.1851, -1.1947,  ..., -0.4143,  0.4112, -0.4713],\n",
      "        [ 0.6979, -0.2874, -0.0107,  ...,  0.5579,  0.2560,  0.6040],\n",
      "        [ 0.0861, -0.6448,  0.3536,  ...,  0.4708, -0.1786, -0.3542]],\n",
      "       device='cuda:0', grad_fn=<DivBackward0>)\n",
      "A man with a hard hat is dancing.\n",
      "5706        A man wearing a hard hat is dancing.\n",
      "5707                  A child is riding a horse.\n",
      "5708    The man is feeding a mouse to the snake.\n",
      "5709                    A man is playing guitar.\n",
      "Name: sentence2, dtype: object\n",
      "tensor([0.9837, 0.9856, 0.9746, 0.6640], device='cuda:0',\n",
      "       grad_fn=<DiagonalBackward0>)\n"
     ]
    }
   ],
   "source": [
    "for i in range(0,len(df_eval),batch_size):\n",
    "    batch = df_eval.iloc[i:i+batch_size]\n",
    "    print(m(list(batch['sentence1'])).shape)\n",
    "    q = m(list(batch['sentence1']))\n",
    "    a = m(list(batch['sentence2']))\n",
    "    print(q)\n",
    "    print(a)\n",
    "    print(batch.iloc[0]['sentence1'])\n",
    "    print(batch['sentence2'])\n",
    "    scores = m.cos_score(m(list(batch['sentence1'])), m(list(batch['sentence2'])))\n",
    "    #nn.CosineSimilarity(dim = 1)(q,a)\n",
    "    print(scores)\n",
    "    #print(torch.diagonal(scores))\n",
    "    break"
   ]
  },
  {
   "cell_type": "code",
   "execution_count": null,
   "id": "32203912-752a-4cb3-8123-1a95053f4dd3",
   "metadata": {},
   "outputs": [],
   "source": []
  }
 ],
 "metadata": {
  "kernelspec": {
   "display_name": "Python 3 (ipykernel)",
   "language": "python",
   "name": "python3"
  },
  "language_info": {
   "codemirror_mode": {
    "name": "ipython",
    "version": 3
   },
   "file_extension": ".py",
   "mimetype": "text/x-python",
   "name": "python",
   "nbconvert_exporter": "python",
   "pygments_lexer": "ipython3",
   "version": "3.8.10"
  }
 },
 "nbformat": 4,
 "nbformat_minor": 5
}
