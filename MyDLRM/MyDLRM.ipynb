{
 "cells": [
  {
   "cell_type": "code",
   "execution_count": 1,
   "id": "d76116f4-1bcf-442d-acb1-4e7562446d7d",
   "metadata": {},
   "outputs": [],
   "source": [
    "# https://github.com/facebookresearch/dlrm\n",
    "# https://github.com/pytorch/torchrec/blob/main/torchrec/models/dlrm.py\n",
    "# https://github.com/PaddlePaddle/PaddleRec/tree/master/models/rank/dlrm\n",
    "# https://github.com/alibaba/easyrec\n",
    "# https://nvidia-merlin.github.io/NVTabular/stable/examples/01-Getting-started.html#movielens25m\n",
    "# https://github.com/NVIDIA-Merlin/models/blob/eb1e54196a64a70950b2a7e7744d2150e052d53e/examples/01-Getting-started.ipynb#L52\n",
    "# https://github.com/NVIDIA-Merlin/models/blob/eb1e54196a64a70950b2a7e7744d2150e052d53e/merlin/models/torch/models/ranking.py\n",
    "# https://github.com/NVIDIA-Merlin/Merlin\n",
    "\n",
    "# datasets\n",
    "#https://github.com/caserec/Datasets-for-Recommender-Systems\n",
    "\n",
    "# datasets -- movielens\n",
    "# https://www.kaggle.com/code/shihabshahriar/pytorch-movielens\n",
    "# https://github.com/pytorch/torchrec/blob/main/torchrec/datasets/movielens.py\n",
    "# https://pureai.substack.com/p/recommender-systems-with-pytorch\n",
    "# https://nvidia-merlin.github.io/Merlin/stable/examples/getting-started-movielens/03-Training-with-PyTorch.html\n",
    "# https://nvidia-merlin.github.io/NVTabular/v0.7.0/examples/getting-started-movielens/03-Training-with-PyTorch.html\n",
    "\n",
    "# https://github.com/ycjuan/kaggle-2014-criteo\n",
    "# https://www.kaggle.com/c/criteo-display-ad-challenge/data\n",
    "# https://github.com/pytorch/torchrec/blob/main/torchrec/datasets/criteo.py\n",
    "\n",
    "# datasets smaller\n",
    "# https://www.kaggle.com/datasets/leonerd/criteo-small\n"
   ]
  },
  {
   "cell_type": "code",
   "execution_count": 2,
   "id": "1159cf3a-f5f4-454c-9f12-a70d60f87881",
   "metadata": {},
   "outputs": [],
   "source": [
    "import torch\n",
    "import torch.nn as nn\n",
    "import torch.nn.functional as F\n",
    "import pandas as pd"
   ]
  },
  {
   "cell_type": "code",
   "execution_count": 3,
   "id": "9fc0d1ba-927d-49b2-8ac5-0d6aa1c3686d",
   "metadata": {},
   "outputs": [],
   "source": [
    "class MLP(nn.Module):\n",
    "    def __init__(self, num_inp, num_outp):\n",
    "        super().__init__()\n",
    "\n",
    "        self.linear = nn.Linear(num_inp, num_inp*3)\n",
    "        self.act = nn.GELU()\n",
    "        self.linear_final = nn.Linear(num_inp*3, num_outp)\n",
    "        \n",
    "\n",
    "    def forward(self, inp):\n",
    "        inp = self.act(self.linear(inp))\n",
    "        inp = self.act(self.linear_final(inp))\n",
    "        \n",
    "        return inp\n",
    "\n",
    "class MyDLRM(nn.Module):\n",
    "    def __init__(self, emb_dim, num_dense_features, num_sparse_features, sparse_features_categories, num_output_categories):\n",
    "        super().__init__()\n",
    "        self.emb_dim = emb_dim # embedding dim\n",
    "        self.num_sparse_features = num_sparse_features\n",
    "        self.num_dense_features = num_dense_features\n",
    "        if num_dense_features == 0:\n",
    "            self.has_dense_feature = 0\n",
    "        else:\n",
    "            self.has_dense_feature = 0\n",
    "            \n",
    "        # dense feature MLP\n",
    "        if num_dense_features:\n",
    "            self.dense_mlp = MLP(num_dense_features, emb_dim)\n",
    "\n",
    "        # sparse feature embedding\n",
    "        self.sparse_emb_list = nn.ModuleList()\n",
    "        for i in range(num_sparse_features):\n",
    "            self.sparse_emb_list.append(nn.Embedding(sparse_features_categories[i], emb_dim))\n",
    "\n",
    "        # top MLP's input == sparse interaction feature + 1 of dense feature\n",
    "        self.top_mlp = MLP((num_sparse_features+self.has_dense_feature)*(num_sparse_features+self.has_dense_feature-1)//2 + num_dense_features * emb_dim, num_output_categories)\n",
    "\n",
    "        # trilu_indices\n",
    "        self.register_buffer(\n",
    "            \"triu_indices\",\n",
    "            torch.triu_indices(self.num_sparse_features + self.has_dense_feature, self.num_sparse_features + self.has_dense_feature, offset=1),\n",
    "            persistent=False,\n",
    "        )\n",
    "\n",
    "    def forward(self, inp_dense, inp_sparse):\n",
    "        # dense feature go through MLP\n",
    "        if self.num_dense_features:\n",
    "            dense_emb = self.dense_mlp(inp_dense)[:,None,...]\n",
    "\n",
    "        # sparse feature go through embedding\n",
    "        sparse_emb_list = []\n",
    "        for i in range(self.num_sparse_features):\n",
    "            sparse_emb_list.append(self.sparse_emb_list[i](inp_sparse[:,i][:,None,...]))\n",
    "\n",
    "        sparse_emb = torch.cat(sparse_emb_list, dim = 1)\n",
    "        \n",
    "        # concat dense_emb and sparse_emb\n",
    "        if self.num_dense_features:\n",
    "            output = torch.cat([dense_emb, sparse_emb], dim = 1)\n",
    "        else:\n",
    "            output = sparse_emb\n",
    "\n",
    "        # concated embeddings go through interaction of matrix multiplication (batched)\n",
    "        output = output @ output.transpose(-2,-1)\n",
    "\n",
    "        # take the interaction between any two features by the upper tril\n",
    "        # option 1: use torch.trilu_indices (https://github.com/pytorch/torchrec/blob/main/torchrec/models/dlrm.py)\n",
    "        output = output[:, self.triu_indices[0], self.triu_indices[1]]\n",
    "        # option 2: use calculated indices (https://github.com/facebookresearch/dlrm/blob/main/dlrm_s_pytorch.py)\n",
    "        #li = torch.tensor([i for i in range(ni) for j in range(i + offset)])\n",
    "        #lj = torch.tensor([j for i in range(nj) for j in range(i + offset)])\n",
    "\n",
    "        # cat the interaction output with dense embedding again\n",
    "        if self.num_dense_features:\n",
    "            output = torch.cat([dense_emb[:,-1]] + [output], dim = 1)\n",
    "        \n",
    "        \n",
    "        # go through final top_mlp\n",
    "        output = self.top_mlp(output)\n",
    "\n",
    "        # For CTR, clamp between 0~1 with Sigmoid, then BCDLoss for loss function\n",
    "        # For regression task like rating prediction, it's not needed\n",
    "        #output = nn.Sigmoid()(output)\n",
    "\n",
    "        return output"
   ]
  },
  {
   "cell_type": "code",
   "execution_count": 4,
   "id": "290414da-43b5-4069-b6a9-b7092d10c042",
   "metadata": {},
   "outputs": [],
   "source": [
    "#!wget https://files.grouplens.org/datasets/movielens/ml-20m.zip\n",
    "#!wget https://files.grouplens.org/datasets/movielens/ml-latest-small.zip\n",
    "#!unzip ml-20m.zip\n",
    "#!unzip ml-latest-small.zip"
   ]
  },
  {
   "cell_type": "code",
   "execution_count": 5,
   "id": "9e75cb0c-4ab1-403c-801d-b805680d0f79",
   "metadata": {},
   "outputs": [],
   "source": [
    "df_rating = pd.read_csv(\"./ml-latest-small/ratings.csv\")\n",
    "#df_rating = pd.read_csv(\"./ml-20m/ratings.csv\")"
   ]
  },
  {
   "cell_type": "code",
   "execution_count": 6,
   "id": "af83ebb5-f112-4f78-acbf-12666274545f",
   "metadata": {},
   "outputs": [
    {
     "data": {
      "text/html": [
       "<div>\n",
       "<style scoped>\n",
       "    .dataframe tbody tr th:only-of-type {\n",
       "        vertical-align: middle;\n",
       "    }\n",
       "\n",
       "    .dataframe tbody tr th {\n",
       "        vertical-align: top;\n",
       "    }\n",
       "\n",
       "    .dataframe thead th {\n",
       "        text-align: right;\n",
       "    }\n",
       "</style>\n",
       "<table border=\"1\" class=\"dataframe\">\n",
       "  <thead>\n",
       "    <tr style=\"text-align: right;\">\n",
       "      <th></th>\n",
       "      <th>userId</th>\n",
       "      <th>movieId</th>\n",
       "      <th>rating</th>\n",
       "      <th>timestamp</th>\n",
       "    </tr>\n",
       "  </thead>\n",
       "  <tbody>\n",
       "    <tr>\n",
       "      <th>0</th>\n",
       "      <td>1</td>\n",
       "      <td>1</td>\n",
       "      <td>4.0</td>\n",
       "      <td>964982703</td>\n",
       "    </tr>\n",
       "    <tr>\n",
       "      <th>1</th>\n",
       "      <td>1</td>\n",
       "      <td>3</td>\n",
       "      <td>4.0</td>\n",
       "      <td>964981247</td>\n",
       "    </tr>\n",
       "    <tr>\n",
       "      <th>2</th>\n",
       "      <td>1</td>\n",
       "      <td>6</td>\n",
       "      <td>4.0</td>\n",
       "      <td>964982224</td>\n",
       "    </tr>\n",
       "    <tr>\n",
       "      <th>3</th>\n",
       "      <td>1</td>\n",
       "      <td>47</td>\n",
       "      <td>5.0</td>\n",
       "      <td>964983815</td>\n",
       "    </tr>\n",
       "    <tr>\n",
       "      <th>4</th>\n",
       "      <td>1</td>\n",
       "      <td>50</td>\n",
       "      <td>5.0</td>\n",
       "      <td>964982931</td>\n",
       "    </tr>\n",
       "  </tbody>\n",
       "</table>\n",
       "</div>"
      ],
      "text/plain": [
       "   userId  movieId  rating  timestamp\n",
       "0       1        1     4.0  964982703\n",
       "1       1        3     4.0  964981247\n",
       "2       1        6     4.0  964982224\n",
       "3       1       47     5.0  964983815\n",
       "4       1       50     5.0  964982931"
      ]
     },
     "execution_count": 6,
     "metadata": {},
     "output_type": "execute_result"
    }
   ],
   "source": [
    "df_rating.head()"
   ]
  },
  {
   "cell_type": "code",
   "execution_count": 7,
   "id": "dfcb4beb-8bdf-4560-ba7c-5673f641f520",
   "metadata": {},
   "outputs": [
    {
     "data": {
      "text/plain": [
       "array([4. , 5. , 3. , 2. , 1. , 4.5, 3.5, 2.5, 0.5, 1.5])"
      ]
     },
     "execution_count": 7,
     "metadata": {},
     "output_type": "execute_result"
    }
   ],
   "source": [
    "df_rating.rating.unique()"
   ]
  },
  {
   "cell_type": "code",
   "execution_count": 8,
   "id": "8bc6e6f7-0898-4ca9-b297-e9e965dc5061",
   "metadata": {},
   "outputs": [],
   "source": [
    "rating_range = df_rating.rating.max() - df_rating.rating.min()"
   ]
  },
  {
   "cell_type": "code",
   "execution_count": 9,
   "id": "49580403-ee96-499e-8bd7-48be628d6b5b",
   "metadata": {},
   "outputs": [
    {
     "data": {
      "text/html": [
       "<div>\n",
       "<style scoped>\n",
       "    .dataframe tbody tr th:only-of-type {\n",
       "        vertical-align: middle;\n",
       "    }\n",
       "\n",
       "    .dataframe tbody tr th {\n",
       "        vertical-align: top;\n",
       "    }\n",
       "\n",
       "    .dataframe thead th {\n",
       "        text-align: right;\n",
       "    }\n",
       "</style>\n",
       "<table border=\"1\" class=\"dataframe\">\n",
       "  <thead>\n",
       "    <tr style=\"text-align: right;\">\n",
       "      <th></th>\n",
       "      <th>movieId</th>\n",
       "      <th>title</th>\n",
       "      <th>genres</th>\n",
       "    </tr>\n",
       "  </thead>\n",
       "  <tbody>\n",
       "    <tr>\n",
       "      <th>0</th>\n",
       "      <td>1</td>\n",
       "      <td>Toy Story (1995)</td>\n",
       "      <td>Adventure|Animation|Children|Comedy|Fantasy</td>\n",
       "    </tr>\n",
       "    <tr>\n",
       "      <th>1</th>\n",
       "      <td>2</td>\n",
       "      <td>Jumanji (1995)</td>\n",
       "      <td>Adventure|Children|Fantasy</td>\n",
       "    </tr>\n",
       "    <tr>\n",
       "      <th>2</th>\n",
       "      <td>3</td>\n",
       "      <td>Grumpier Old Men (1995)</td>\n",
       "      <td>Comedy|Romance</td>\n",
       "    </tr>\n",
       "    <tr>\n",
       "      <th>3</th>\n",
       "      <td>4</td>\n",
       "      <td>Waiting to Exhale (1995)</td>\n",
       "      <td>Comedy|Drama|Romance</td>\n",
       "    </tr>\n",
       "    <tr>\n",
       "      <th>4</th>\n",
       "      <td>5</td>\n",
       "      <td>Father of the Bride Part II (1995)</td>\n",
       "      <td>Comedy</td>\n",
       "    </tr>\n",
       "  </tbody>\n",
       "</table>\n",
       "</div>"
      ],
      "text/plain": [
       "   movieId                               title  \\\n",
       "0        1                    Toy Story (1995)   \n",
       "1        2                      Jumanji (1995)   \n",
       "2        3             Grumpier Old Men (1995)   \n",
       "3        4            Waiting to Exhale (1995)   \n",
       "4        5  Father of the Bride Part II (1995)   \n",
       "\n",
       "                                        genres  \n",
       "0  Adventure|Animation|Children|Comedy|Fantasy  \n",
       "1                   Adventure|Children|Fantasy  \n",
       "2                               Comedy|Romance  \n",
       "3                         Comedy|Drama|Romance  \n",
       "4                                       Comedy  "
      ]
     },
     "execution_count": 9,
     "metadata": {},
     "output_type": "execute_result"
    }
   ],
   "source": [
    "df_movies = pd.read_csv(\"./ml-latest-small/movies.csv\")\n",
    "df_movies.head()"
   ]
  },
  {
   "cell_type": "code",
   "execution_count": 10,
   "id": "4ff4b4ae-55a7-436d-85f5-6888d15165a9",
   "metadata": {},
   "outputs": [
    {
     "data": {
      "text/html": [
       "<div>\n",
       "<style scoped>\n",
       "    .dataframe tbody tr th:only-of-type {\n",
       "        vertical-align: middle;\n",
       "    }\n",
       "\n",
       "    .dataframe tbody tr th {\n",
       "        vertical-align: top;\n",
       "    }\n",
       "\n",
       "    .dataframe thead th {\n",
       "        text-align: right;\n",
       "    }\n",
       "</style>\n",
       "<table border=\"1\" class=\"dataframe\">\n",
       "  <thead>\n",
       "    <tr style=\"text-align: right;\">\n",
       "      <th></th>\n",
       "      <th>userId</th>\n",
       "      <th>movieId</th>\n",
       "      <th>rating</th>\n",
       "      <th>timestamp</th>\n",
       "      <th>title</th>\n",
       "      <th>genres</th>\n",
       "    </tr>\n",
       "  </thead>\n",
       "  <tbody>\n",
       "    <tr>\n",
       "      <th>0</th>\n",
       "      <td>1</td>\n",
       "      <td>1</td>\n",
       "      <td>4.0</td>\n",
       "      <td>964982703</td>\n",
       "      <td>Toy Story (1995)</td>\n",
       "      <td>Adventure|Animation|Children|Comedy|Fantasy</td>\n",
       "    </tr>\n",
       "    <tr>\n",
       "      <th>1</th>\n",
       "      <td>5</td>\n",
       "      <td>1</td>\n",
       "      <td>4.0</td>\n",
       "      <td>847434962</td>\n",
       "      <td>Toy Story (1995)</td>\n",
       "      <td>Adventure|Animation|Children|Comedy|Fantasy</td>\n",
       "    </tr>\n",
       "    <tr>\n",
       "      <th>2</th>\n",
       "      <td>7</td>\n",
       "      <td>1</td>\n",
       "      <td>4.5</td>\n",
       "      <td>1106635946</td>\n",
       "      <td>Toy Story (1995)</td>\n",
       "      <td>Adventure|Animation|Children|Comedy|Fantasy</td>\n",
       "    </tr>\n",
       "    <tr>\n",
       "      <th>3</th>\n",
       "      <td>15</td>\n",
       "      <td>1</td>\n",
       "      <td>2.5</td>\n",
       "      <td>1510577970</td>\n",
       "      <td>Toy Story (1995)</td>\n",
       "      <td>Adventure|Animation|Children|Comedy|Fantasy</td>\n",
       "    </tr>\n",
       "    <tr>\n",
       "      <th>4</th>\n",
       "      <td>17</td>\n",
       "      <td>1</td>\n",
       "      <td>4.5</td>\n",
       "      <td>1305696483</td>\n",
       "      <td>Toy Story (1995)</td>\n",
       "      <td>Adventure|Animation|Children|Comedy|Fantasy</td>\n",
       "    </tr>\n",
       "  </tbody>\n",
       "</table>\n",
       "</div>"
      ],
      "text/plain": [
       "   userId  movieId  rating   timestamp             title  \\\n",
       "0       1        1     4.0   964982703  Toy Story (1995)   \n",
       "1       5        1     4.0   847434962  Toy Story (1995)   \n",
       "2       7        1     4.5  1106635946  Toy Story (1995)   \n",
       "3      15        1     2.5  1510577970  Toy Story (1995)   \n",
       "4      17        1     4.5  1305696483  Toy Story (1995)   \n",
       "\n",
       "                                        genres  \n",
       "0  Adventure|Animation|Children|Comedy|Fantasy  \n",
       "1  Adventure|Animation|Children|Comedy|Fantasy  \n",
       "2  Adventure|Animation|Children|Comedy|Fantasy  \n",
       "3  Adventure|Animation|Children|Comedy|Fantasy  \n",
       "4  Adventure|Animation|Children|Comedy|Fantasy  "
      ]
     },
     "execution_count": 10,
     "metadata": {},
     "output_type": "execute_result"
    }
   ],
   "source": [
    "df = df_rating.merge(df_movies, on = \"movieId\")\n",
    "df.head()"
   ]
  },
  {
   "cell_type": "code",
   "execution_count": 11,
   "id": "0196af70-df0e-4f0a-bc28-ea34259bf31b",
   "metadata": {},
   "outputs": [
    {
     "data": {
      "text/html": [
       "<div>\n",
       "<style scoped>\n",
       "    .dataframe tbody tr th:only-of-type {\n",
       "        vertical-align: middle;\n",
       "    }\n",
       "\n",
       "    .dataframe tbody tr th {\n",
       "        vertical-align: top;\n",
       "    }\n",
       "\n",
       "    .dataframe thead th {\n",
       "        text-align: right;\n",
       "    }\n",
       "</style>\n",
       "<table border=\"1\" class=\"dataframe\">\n",
       "  <thead>\n",
       "    <tr style=\"text-align: right;\">\n",
       "      <th></th>\n",
       "      <th>userId</th>\n",
       "      <th>movieId</th>\n",
       "      <th>rating</th>\n",
       "      <th>timestamp</th>\n",
       "      <th>title</th>\n",
       "      <th>genres</th>\n",
       "      <th>movieCat</th>\n",
       "      <th>userCat</th>\n",
       "      <th>genresCat</th>\n",
       "      <th>timestamp_norm</th>\n",
       "      <th>rating_norm</th>\n",
       "    </tr>\n",
       "  </thead>\n",
       "  <tbody>\n",
       "    <tr>\n",
       "      <th>0</th>\n",
       "      <td>1</td>\n",
       "      <td>1</td>\n",
       "      <td>4.0</td>\n",
       "      <td>964982703</td>\n",
       "      <td>Toy Story (1995)</td>\n",
       "      <td>Adventure|Animation|Children|Comedy|Fantasy</td>\n",
       "      <td>0</td>\n",
       "      <td>0</td>\n",
       "      <td>351</td>\n",
       "      <td>-1.114225</td>\n",
       "      <td>4.0</td>\n",
       "    </tr>\n",
       "    <tr>\n",
       "      <th>1</th>\n",
       "      <td>5</td>\n",
       "      <td>1</td>\n",
       "      <td>4.0</td>\n",
       "      <td>847434962</td>\n",
       "      <td>Toy Story (1995)</td>\n",
       "      <td>Adventure|Animation|Children|Comedy|Fantasy</td>\n",
       "      <td>0</td>\n",
       "      <td>4</td>\n",
       "      <td>351</td>\n",
       "      <td>-1.657770</td>\n",
       "      <td>4.0</td>\n",
       "    </tr>\n",
       "    <tr>\n",
       "      <th>2</th>\n",
       "      <td>7</td>\n",
       "      <td>1</td>\n",
       "      <td>4.5</td>\n",
       "      <td>1106635946</td>\n",
       "      <td>Toy Story (1995)</td>\n",
       "      <td>Adventure|Animation|Children|Comedy|Fantasy</td>\n",
       "      <td>0</td>\n",
       "      <td>6</td>\n",
       "      <td>351</td>\n",
       "      <td>-0.459214</td>\n",
       "      <td>4.5</td>\n",
       "    </tr>\n",
       "    <tr>\n",
       "      <th>3</th>\n",
       "      <td>15</td>\n",
       "      <td>1</td>\n",
       "      <td>2.5</td>\n",
       "      <td>1510577970</td>\n",
       "      <td>Toy Story (1995)</td>\n",
       "      <td>Adventure|Animation|Children|Comedy|Fantasy</td>\n",
       "      <td>0</td>\n",
       "      <td>14</td>\n",
       "      <td>351</td>\n",
       "      <td>1.408630</td>\n",
       "      <td>2.5</td>\n",
       "    </tr>\n",
       "    <tr>\n",
       "      <th>4</th>\n",
       "      <td>17</td>\n",
       "      <td>1</td>\n",
       "      <td>4.5</td>\n",
       "      <td>1305696483</td>\n",
       "      <td>Toy Story (1995)</td>\n",
       "      <td>Adventure|Animation|Children|Comedy|Fantasy</td>\n",
       "      <td>0</td>\n",
       "      <td>16</td>\n",
       "      <td>351</td>\n",
       "      <td>0.461250</td>\n",
       "      <td>4.5</td>\n",
       "    </tr>\n",
       "  </tbody>\n",
       "</table>\n",
       "</div>"
      ],
      "text/plain": [
       "   userId  movieId  rating   timestamp             title  \\\n",
       "0       1        1     4.0   964982703  Toy Story (1995)   \n",
       "1       5        1     4.0   847434962  Toy Story (1995)   \n",
       "2       7        1     4.5  1106635946  Toy Story (1995)   \n",
       "3      15        1     2.5  1510577970  Toy Story (1995)   \n",
       "4      17        1     4.5  1305696483  Toy Story (1995)   \n",
       "\n",
       "                                        genres  movieCat  userCat  genresCat  \\\n",
       "0  Adventure|Animation|Children|Comedy|Fantasy         0        0        351   \n",
       "1  Adventure|Animation|Children|Comedy|Fantasy         0        4        351   \n",
       "2  Adventure|Animation|Children|Comedy|Fantasy         0        6        351   \n",
       "3  Adventure|Animation|Children|Comedy|Fantasy         0       14        351   \n",
       "4  Adventure|Animation|Children|Comedy|Fantasy         0       16        351   \n",
       "\n",
       "   timestamp_norm  rating_norm  \n",
       "0       -1.114225          4.0  \n",
       "1       -1.657770          4.0  \n",
       "2       -0.459214          4.5  \n",
       "3        1.408630          2.5  \n",
       "4        0.461250          4.5  "
      ]
     },
     "execution_count": 11,
     "metadata": {},
     "output_type": "execute_result"
    }
   ],
   "source": [
    "df[\"movieCat\"] = df.movieId.astype(\"category\").cat.codes\n",
    "df[\"userCat\"] = df.userId.astype(\"category\").cat.codes\n",
    "df[\"genresCat\"] = df.genres.astype(\"category\").cat.codes\n",
    "#df[\"movieCat\"] = df.movieId\n",
    "#df[\"userCat\"] = df.movieId\n",
    "\n",
    "df[\"timestamp_norm\"] = (df.timestamp - df.timestamp.mean())/df.timestamp.std()\n",
    "#df[\"rating_norm\"] = (df.rating - df.rating.mean())/df.rating.std()\n",
    "#df[\"rating_norm\"] = (df.rating - (rating_range/2))/rating_range\n",
    "df[\"rating_norm\"] = df.rating\n",
    "df.head()"
   ]
  },
  {
   "cell_type": "code",
   "execution_count": 12,
   "id": "9c99a1bf-c123-4b5e-a987-0f39496384c1",
   "metadata": {},
   "outputs": [],
   "source": [
    "from torch.utils.data import Dataset, DataLoader\n",
    "class MovieLensDataset(Dataset):\n",
    "    def __init__(self, df):\n",
    "        super().__init__()\n",
    "        self.df = df\n",
    "\n",
    "    def __len__(self):\n",
    "        return len(self.df)\n",
    "\n",
    "    def __getitem__(self, idx):\n",
    "        timestamp_data = float(self.df[\"timestamp_norm\"].iloc[idx])  # float is expected by linear layer. avoid \"RuntimeError: mat1 and mat2 must have the same dtype, but got Double and Float\"\n",
    "        movie_data = int(self.df[\"movieCat\"].iloc[idx])\n",
    "        user_data = int(self.df[\"userCat\"].iloc[idx])\n",
    "        genres_data = int(self.df[\"genresCat\"].iloc[idx])\n",
    "        rating_data = float(self.df[\"rating_norm\"].iloc[idx])\n",
    "\n",
    "        dense_data = torch.tensor([timestamp_data])\n",
    "        sparse_data = torch.tensor([user_data, movie_data, genres_data])\n",
    "        target_data = torch.tensor(rating_data)\n",
    "\n",
    "        return dense_data, sparse_data, target_data\n"
   ]
  },
  {
   "cell_type": "code",
   "execution_count": 13,
   "id": "b2c04476-ef17-42d3-b7c1-b507b8d28e34",
   "metadata": {},
   "outputs": [
    {
     "data": {
      "text/plain": [
       "90752"
      ]
     },
     "execution_count": 13,
     "metadata": {},
     "output_type": "execute_result"
    }
   ],
   "source": [
    "train_count = len(df)*9//10\n",
    "len(df.iloc[:train_count])"
   ]
  },
  {
   "cell_type": "code",
   "execution_count": 14,
   "id": "ec6124a0-1660-482f-a5b4-62051f4d7c2e",
   "metadata": {},
   "outputs": [
    {
     "data": {
      "text/plain": [
       "(tensor([1.4086]), tensor([ 14,   0, 351]), tensor(2.5000))"
      ]
     },
     "execution_count": 14,
     "metadata": {},
     "output_type": "execute_result"
    }
   ],
   "source": [
    "# fixed split\n",
    "#movielensDataset_train = MovieLensDataset(df.iloc[:train_count])\n",
    "#movielensDataset_test = MovieLensDataset(df.iloc[train_count:-1])\n",
    "\n",
    "# random split\n",
    "df_train=df.sample(frac=0.8,random_state=200)\n",
    "df_test=df.drop(df_train.index)\n",
    "movielensDataset_train = MovieLensDataset(df_train)\n",
    "movielensDataset_test = MovieLensDataset(df_test)\n",
    "\n",
    "movielensDataset_test[0]"
   ]
  },
  {
   "cell_type": "code",
   "execution_count": 15,
   "id": "7d0d42be-48d1-4975-998b-d3501c9ad779",
   "metadata": {},
   "outputs": [
    {
     "data": {
      "text/plain": [
       "(torch.Size([512, 1]), torch.Size([512, 3]), torch.Size([512]))"
      ]
     },
     "execution_count": 15,
     "metadata": {},
     "output_type": "execute_result"
    }
   ],
   "source": [
    "movielensDataloader_train = DataLoader(movielensDataset_train, batch_size=512, shuffle=True)\n",
    "movielensDataloader_test = DataLoader(movielensDataset_test, batch_size=512, shuffle=True)\n",
    "\n",
    "dense_data, sparse_data, target_data = next(iter(movielensDataloader_test))\n",
    "dense_data.shape, sparse_data.shape, target_data.shape"
   ]
  },
  {
   "cell_type": "code",
   "execution_count": 16,
   "id": "ce6fa747-4a24-400b-a824-c0fb9b7c3cac",
   "metadata": {},
   "outputs": [
    {
     "data": {
      "text/plain": [
       "193609"
      ]
     },
     "execution_count": 16,
     "metadata": {},
     "output_type": "execute_result"
    }
   ],
   "source": [
    "max(df[\"movieId\"])"
   ]
  },
  {
   "cell_type": "code",
   "execution_count": 17,
   "id": "b955c505-98ea-498e-be2e-d908ed2260f9",
   "metadata": {},
   "outputs": [
    {
     "data": {
      "text/plain": [
       "9724"
      ]
     },
     "execution_count": 17,
     "metadata": {},
     "output_type": "execute_result"
    }
   ],
   "source": [
    "len(df[\"movieId\"].unique())"
   ]
  },
  {
   "cell_type": "code",
   "execution_count": 18,
   "id": "64125ccb-a28c-4de1-bdb3-40de6cb22479",
   "metadata": {},
   "outputs": [
    {
     "data": {
      "text/plain": [
       "610"
      ]
     },
     "execution_count": 18,
     "metadata": {},
     "output_type": "execute_result"
    }
   ],
   "source": [
    "max(df[\"userId\"])"
   ]
  },
  {
   "cell_type": "code",
   "execution_count": 19,
   "id": "bb71e654-a8e4-4e66-ada2-7a7345b2a762",
   "metadata": {},
   "outputs": [
    {
     "data": {
      "text/plain": [
       "610"
      ]
     },
     "execution_count": 19,
     "metadata": {},
     "output_type": "execute_result"
    }
   ],
   "source": [
    "len(df[\"userId\"].unique())"
   ]
  },
  {
   "cell_type": "code",
   "execution_count": 20,
   "id": "404f8499-d477-4cf0-90ae-eaee7e5abc15",
   "metadata": {},
   "outputs": [
    {
     "data": {
      "text/plain": [
       "100836"
      ]
     },
     "execution_count": 20,
     "metadata": {},
     "output_type": "execute_result"
    }
   ],
   "source": [
    "len(df)"
   ]
  },
  {
   "cell_type": "code",
   "execution_count": 21,
   "id": "0a181f91-57ab-43bb-ae05-ecc0742ff569",
   "metadata": {},
   "outputs": [
    {
     "data": {
      "text/plain": [
       "9724"
      ]
     },
     "execution_count": 21,
     "metadata": {},
     "output_type": "execute_result"
    }
   ],
   "source": [
    "len(df[\"movieCat\"].unique())"
   ]
  },
  {
   "cell_type": "code",
   "execution_count": 22,
   "id": "fdbc7cc7-52c5-448a-8723-aee66f3c3c9f",
   "metadata": {},
   "outputs": [],
   "source": [
    "device = \"cuda\"\n",
    "# only train with sparse features (user and movie)\n",
    "#model = MyDLRM( emb_dim=64, num_dense_features=0, num_sparse_features=3, sparse_features_categories=[len(df[\"userCat\"].unique()),len(df[\"movieCat\"].unique()), len(df[\"genresCat\"].unique())], num_output_categories=10).to(device)\n",
    "# train with sparse features (user and movie) and dense feature (timestamp)\n",
    "model = MyDLRM( emb_dim=64, num_dense_features=1, num_sparse_features=3, sparse_features_categories=[len(df[\"userCat\"].unique()),len(df[\"movieCat\"].unique()), len(df[\"genresCat\"].unique())], num_output_categories=10).to(device)"
   ]
  },
  {
   "cell_type": "code",
   "execution_count": 23,
   "id": "91d5a761-8656-4f93-83d9-be66edee441f",
   "metadata": {},
   "outputs": [
    {
     "name": "stdout",
     "output_type": "stream",
     "text": [
      "epoch #0\n",
      "train epoch loss: 2.836675643166409\n",
      "eval epoch loss: 1.098043218255043\n",
      "epoch #1\n",
      "train epoch loss: 1.0884144257141064\n",
      "eval epoch loss: 1.0873429104685783\n",
      "epoch #2\n",
      "train epoch loss: 1.0845518078230605\n",
      "eval epoch loss: 1.083783385157585\n",
      "epoch #3\n",
      "train epoch loss: 1.0750988110711304\n",
      "eval epoch loss: 1.067153199017048\n",
      "epoch #4\n",
      "train epoch loss: 1.0491753529898729\n",
      "eval epoch loss: 1.0342456743121147\n",
      "epoch #5\n",
      "train epoch loss: 1.0130420942095262\n",
      "eval epoch loss: 1.0071798026561738\n",
      "epoch #6\n",
      "train epoch loss: 0.9777060034154337\n",
      "eval epoch loss: 0.9849074944853783\n",
      "epoch #7\n",
      "train epoch loss: 0.9374102078661134\n",
      "eval epoch loss: 0.9483043819665908\n",
      "epoch #8\n",
      "train epoch loss: 0.8972101867953434\n",
      "eval epoch loss: 0.9208995923399925\n",
      "epoch #9\n",
      "train epoch loss: 0.8592976520333109\n",
      "eval epoch loss: 0.9041521430015564\n"
     ]
    }
   ],
   "source": [
    "lossFunc = F.mse_loss\n",
    "#lossFunc = nn.L1Loss()\n",
    "#optimizer = torch.optim.AdamW(model.parameters(), lr=1e-4)\n",
    "optimizer = torch.optim.Adam(model.parameters(), lr=1e-3)\n",
    "\n",
    "def train_loop():\n",
    "    model.train()\n",
    "    \n",
    "    step = 0\n",
    "    losses = 0\n",
    "    for dense_data, sparse_data, target_data in movielensDataloader_train:\n",
    "        outp = model(dense_data.to(device), sparse_data.to(device))\n",
    "        #use the mean of the output\n",
    "        outp = outp.mean(dim = 1, keepdim=True)\n",
    "        loss = lossFunc(outp, target_data[...,None].to(device))\n",
    "        loss.backward()\n",
    "    \n",
    "        with torch.no_grad():\n",
    "            optimizer.step()\n",
    "            optimizer.zero_grad()\n",
    "            \n",
    "        step+=1\n",
    "        losses += loss.item()\n",
    "        #if step % 100 == 0:\n",
    "            #print(loss)\n",
    "    print(f\"train epoch loss: {losses/step}\")\n",
    "\n",
    "@torch.no_grad()\n",
    "def eval_loop():\n",
    "    model.eval()\n",
    "    step = 0\n",
    "    losses = 0\n",
    "    for dense_data, sparse_data, target_data in movielensDataloader_test:\n",
    "        outp = model(dense_data.to(device), sparse_data.to(device))\n",
    "        #use the mean of the output\n",
    "        outp = outp.mean(dim = 1, keepdim=True)\n",
    "        loss = lossFunc(outp, target_data[...,None].to(device))\n",
    "            \n",
    "        step+=1\n",
    "        losses += loss.item()\n",
    "        if step % 100 == 0:\n",
    "            print(loss)\n",
    "    print(f\"eval epoch loss: {losses/step}\")\n",
    "    \n",
    "for i in range(10):\n",
    "    print(f'epoch #{i}')\n",
    "    train_loop()\n",
    "    eval_loop()"
   ]
  },
  {
   "cell_type": "code",
   "execution_count": 33,
   "id": "464427f2-ace9-493b-a1e4-0ab33f009285",
   "metadata": {},
   "outputs": [
    {
     "name": "stdout",
     "output_type": "stream",
     "text": [
      "tensor(0.9154, device='cuda:0', grad_fn=<MseLossBackward0>)\n"
     ]
    },
    {
     "data": {
      "text/plain": [
       "[(3.533228635787964, 3.5),\n",
       " (3.1699705123901367, 4.0),\n",
       " (3.2973134517669678, 2.0),\n",
       " (3.192746162414551, 3.0),\n",
       " (3.3784687519073486, 1.0),\n",
       " (4.250201225280762, 4.0),\n",
       " (3.8495118618011475, 2.5),\n",
       " (3.2597832679748535, 3.0),\n",
       " (3.7079074382781982, 1.0),\n",
       " (4.722701549530029, 4.5),\n",
       " (4.178431034088135, 4.0),\n",
       " (3.866569995880127, 3.0),\n",
       " (3.2814903259277344, 4.0),\n",
       " (3.9912049770355225, 4.0),\n",
       " (3.644556760787964, 4.0),\n",
       " (3.689218282699585, 5.0),\n",
       " (3.3449249267578125, 4.0),\n",
       " (3.73606538772583, 3.5),\n",
       " (2.7740910053253174, 4.0),\n",
       " (2.129265308380127, 1.5),\n",
       " (4.149108409881592, 4.0),\n",
       " (4.075967311859131, 4.0),\n",
       " (3.655681610107422, 2.5),\n",
       " (4.211141109466553, 5.0),\n",
       " (3.8193652629852295, 4.0),\n",
       " (2.665369749069214, 3.5),\n",
       " (4.260011196136475, 4.5),\n",
       " (3.2092621326446533, 3.0),\n",
       " (3.694141387939453, 3.0),\n",
       " (2.4285762310028076, 3.0),\n",
       " (3.756079912185669, 5.0),\n",
       " (3.7829196453094482, 4.5),\n",
       " (3.7952568531036377, 4.0),\n",
       " (3.997725009918213, 4.0),\n",
       " (3.264937162399292, 3.5),\n",
       " (3.8302018642425537, 3.0),\n",
       " (2.6625030040740967, 4.0),\n",
       " (4.402952671051025, 4.0),\n",
       " (3.0691723823547363, 1.5),\n",
       " (3.352945327758789, 3.5),\n",
       " (3.7971818447113037, 3.5),\n",
       " (3.3243744373321533, 2.0),\n",
       " (3.174314498901367, 3.0),\n",
       " (3.812028646469116, 2.0),\n",
       " (3.92777943611145, 3.0),\n",
       " (3.4357497692108154, 4.0),\n",
       " (3.4889397621154785, 4.0),\n",
       " (3.0466651916503906, 3.0),\n",
       " (3.8809547424316406, 5.0),\n",
       " (3.0442535877227783, 3.0),\n",
       " (2.7297120094299316, 3.5),\n",
       " (3.510929822921753, 2.5),\n",
       " (4.116593360900879, 4.0),\n",
       " (3.597646474838257, 3.0),\n",
       " (4.3079118728637695, 3.5),\n",
       " (3.75467848777771, 2.5),\n",
       " (3.252030611038208, 2.5),\n",
       " (3.2718071937561035, 3.0),\n",
       " (3.875978946685791, 1.0),\n",
       " (3.6718239784240723, 3.0),\n",
       " (2.4574971199035645, 2.5),\n",
       " (3.104621410369873, 3.0),\n",
       " (4.137013912200928, 5.0),\n",
       " (3.600517749786377, 2.0)]"
      ]
     },
     "execution_count": 33,
     "metadata": {},
     "output_type": "execute_result"
    }
   ],
   "source": [
    "movielensDataloader_test = DataLoader(movielensDataset_test, batch_size=64, shuffle=True)\n",
    "\n",
    "dense_data, sparse_data, target_data = next(iter(movielensDataloader_test))\n",
    "\n",
    "outp=model(dense_data.to(device), sparse_data.to(device))\n",
    "outp = outp.mean(dim = 1, keepdim=True)\n",
    "\n",
    "#print(outp.squeeze())\n",
    "#print(target_data)\n",
    "loss = lossFunc(outp, target_data[...,None].to(device))\n",
    "print(loss)\n",
    "\n",
    "[(outp[i].item(), target_data[i].item()) for i in range(outp.shape[0])]"
   ]
  },
  {
   "cell_type": "code",
   "execution_count": null,
   "id": "6e6a0028-e729-4a5f-b862-c76e6f6e563a",
   "metadata": {},
   "outputs": [],
   "source": []
  }
 ],
 "metadata": {
  "kernelspec": {
   "display_name": "base",
   "language": "python",
   "name": "base"
  },
  "language_info": {
   "codemirror_mode": {
    "name": "ipython",
    "version": 3
   },
   "file_extension": ".py",
   "mimetype": "text/x-python",
   "name": "python",
   "nbconvert_exporter": "python",
   "pygments_lexer": "ipython3",
   "version": "3.11.7"
  }
 },
 "nbformat": 4,
 "nbformat_minor": 5
}
